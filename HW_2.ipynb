{
 "cells": [
  {
   "cell_type": "code",
   "execution_count": 31,
   "id": "1aad26a2-df23-4d51-a9d8-011da574bf92",
   "metadata": {},
   "outputs": [],
   "source": [
    "import pandas as pd"
   ]
  },
  {
   "cell_type": "code",
   "execution_count": 32,
   "id": "7965ad16",
   "metadata": {},
   "outputs": [],
   "source": [
    "import datatable as dt"
   ]
  },
  {
   "cell_type": "code",
   "execution_count": 33,
   "id": "bbcd6ae9",
   "metadata": {},
   "outputs": [],
   "source": [
    "import numpy as np"
   ]
  },
  {
   "cell_type": "code",
   "execution_count": 34,
   "id": "4617ed6b",
   "metadata": {},
   "outputs": [],
   "source": [
    "import matplotlib.pyplot as plt"
   ]
  },
  {
   "cell_type": "code",
   "execution_count": 35,
   "id": "f424d4b2",
   "metadata": {},
   "outputs": [],
   "source": [
    "import plotly.express as px"
   ]
  },
  {
   "cell_type": "markdown",
   "id": "9ba3ec8c",
   "metadata": {},
   "source": [
    "## [RQ1] After collecting information, the Data Scientists have to know what dataset they are dealing with, so let's start with an Exploratory Data Analysis (EDA). What can you say about our datasets? Please summarise its main characteristics with visual and tabular methods.\n",
    "\n"
   ]
  },
  {
   "cell_type": "code",
   "execution_count": 7,
   "id": "7fc2029b-095c-4750-9c13-413f3ba4b3b6",
   "metadata": {},
   "outputs": [],
   "source": [
    "df_profiles = dt.fread(r\"C:\\Users\\elisa\\Desktop\\HW_2\\instagram_profiles.csv\", sep= '\\t').to_pandas()"
   ]
  },
  {
   "cell_type": "code",
   "execution_count": 8,
   "id": "3154b1b5-c9de-4947-a93a-296a3d0c97bf",
   "metadata": {},
   "outputs": [],
   "source": [
    "df_locations = dt.fread(r\"C:\\Users\\elisa\\Desktop\\HW_2\\instagram_locations.csv\", sep= '\\t' ).to_pandas()"
   ]
  },
  {
   "cell_type": "code",
   "execution_count": 9,
   "id": "4f0450a8-3edc-4766-8ebc-889f5c82a967",
   "metadata": {},
   "outputs": [],
   "source": [
    "df_posts = dt.fread(r\"C:\\Users\\elisa\\Desktop\\HW_2\\instagram_posts.csv\", sep= '\\t', columns = {'sid_profile', 'profile_id', 'location_id', 'post_type', 'numbr_likes', 'cts'}).to_pandas()\n"
   ]
  },
  {
   "cell_type": "code",
   "execution_count": 10,
   "id": "8e2c19b1-aa5a-40bd-bed1-6ac4374b1778",
   "metadata": {
    "scrolled": true
   },
   "outputs": [
    {
     "data": {
      "text/plain": [
       "Index(['sid', 'profile_id', 'profile_name', 'firstname_lastname',\n",
       "       'description', 'following', 'followers', 'n_posts', 'url', 'cts',\n",
       "       'is_business_account'],\n",
       "      dtype='object')"
      ]
     },
     "execution_count": 10,
     "metadata": {},
     "output_type": "execute_result"
    }
   ],
   "source": [
    "df_profiles.columns"
   ]
  },
  {
   "cell_type": "code",
   "execution_count": 11,
   "id": "64441bbc",
   "metadata": {},
   "outputs": [
    {
     "data": {
      "text/plain": [
       "sid                      int32\n",
       "profile_id             float64\n",
       "profile_name            object\n",
       "firstname_lastname      object\n",
       "description             object\n",
       "following              float64\n",
       "followers              float64\n",
       "n_posts                float64\n",
       "url                     object\n",
       "cts                     object\n",
       "is_business_account     object\n",
       "dtype: object"
      ]
     },
     "execution_count": 11,
     "metadata": {},
     "output_type": "execute_result"
    }
   ],
   "source": [
    "df_profiles.dtypes"
   ]
  },
  {
   "cell_type": "code",
   "execution_count": 12,
   "id": "a9509765-85ea-4745-a90c-5a31df8e6a72",
   "metadata": {},
   "outputs": [
    {
     "data": {
      "text/plain": [
       "' \\nHere we have 11 columns;\\n[\"sid\", \"profile_id\" , \" profile_name\", \"firstname_lastname\", \"description\", \"following\", \"followers\",\\n \"n_posts\", \"url\" , \"cts\", \"is_business_acco\"]\\n \\n-Where the SID represents the sequance ID, (int64)\\n-the profile_id is the number associated to each profile,(float64)\\n-the orofile_name are the names of each account, (object)\\n-Frist_lastname are the name and surnamens of each accounts, (object)\\n-Description is the description that might be (or not be) on the profile,(object)\\n-the Following arw the Number of following profile at the moment it was visited,(float64)\\n-the followers are the Number of followers at the moment it was visited,(float64)\\n-the n_posts are the Number of posts at the moment it was visited,(float64)\\n-the URL that can be written on the profile, (object)\\n-the CST is the Timestamp when the profile was visited,(object)\\n-is_business_account the owner can mark it as business account.\\n'"
      ]
     },
     "execution_count": 12,
     "metadata": {},
     "output_type": "execute_result"
    }
   ],
   "source": [
    "''' \n",
    "Here we have 11 columns;\n",
    "[\"sid\", \"profile_id\" , \" profile_name\", \"firstname_lastname\", \"description\", \"following\", \"followers\",\n",
    " \"n_posts\", \"url\" , \"cts\", \"is_business_acco\"]\n",
    " \n",
    "-Where the SID represents the sequance ID, (int64)\n",
    "-the profile_id is the number associated to each profile,(float64)\n",
    "-the orofile_name are the names of each account, (object)\n",
    "-Frist_lastname are the name and surnamens of each accounts, (object)\n",
    "-Description is the description that might be (or not be) on the profile,(object)\n",
    "-the Following arw the Number of following profile at the moment it was visited,(float64)\n",
    "-the followers are the Number of followers at the moment it was visited,(float64)\n",
    "-the n_posts are the Number of posts at the moment it was visited,(float64)\n",
    "-the URL that can be written on the profile, (object)\n",
    "-the CST is the Timestamp when the profile was visited,(object)\n",
    "-is_business_account the owner can mark it as business account.\n",
    "'''"
   ]
  },
  {
   "cell_type": "code",
   "execution_count": 13,
   "id": "d8ebbd17",
   "metadata": {},
   "outputs": [
    {
     "name": "stdout",
     "output_type": "stream",
     "text": [
      "                 sid            profile_id      following        followers  \\\n",
      "count 4509586.000000        4477139.000000 3452771.000000   3452771.000000   \n",
      "mean  2255991.717800     3083301899.754306    1405.641316      4739.899180   \n",
      "std   1301806.646267    42665750578.324181    8113.473264    193908.709487   \n",
      "min      1186.000000              4.000000       0.000000         0.000000   \n",
      "25%   1128596.250000      273517749.000000     356.000000       159.000000   \n",
      "50%   2255992.500000     1649248274.000000     754.000000       406.000000   \n",
      "75%   3383388.750000     5514690705.500000    1573.000000       974.000000   \n",
      "max   4510785.000000 90010129721363.000000 4191080.000000 285457645.000000   \n",
      "\n",
      "             n_posts  \n",
      "count 3452771.000000  \n",
      "mean      409.541377  \n",
      "std      1041.940409  \n",
      "min         0.000000  \n",
      "25%        22.000000  \n",
      "50%       120.000000  \n",
      "75%       420.000000  \n",
      "max    183730.000000  \n"
     ]
    }
   ],
   "source": [
    "with pd.option_context(\"float_format\", \"{:f}\".format):\n",
    "        print(df_profiles.describe())\n",
    "# here we can see the the main informations of the dataframe.        "
   ]
  },
  {
   "cell_type": "code",
   "execution_count": 14,
   "id": "2b17f949-4554-48bf-9a75-9bb0d4ce2b6d",
   "metadata": {},
   "outputs": [
    {
     "data": {
      "text/plain": [
       "0"
      ]
     },
     "execution_count": 14,
     "metadata": {},
     "output_type": "execute_result"
    }
   ],
   "source": [
    "df_profiles.duplicated().sum() # we don't have duplicates"
   ]
  },
  {
   "cell_type": "code",
   "execution_count": 15,
   "id": "eaf06940",
   "metadata": {},
   "outputs": [
    {
     "data": {
      "text/plain": [
       "0           146.0\n",
       "1          1145.0\n",
       "2           324.0\n",
       "3             NaN\n",
       "4             NaN\n",
       "            ...  \n",
       "4509581     481.0\n",
       "4509582       NaN\n",
       "4509583       NaN\n",
       "4509584     153.0\n",
       "4509585       NaN\n",
       "Name: followers, Length: 4509586, dtype: float64"
      ]
     },
     "execution_count": 15,
     "metadata": {},
     "output_type": "execute_result"
    }
   ],
   "source": [
    "df_profiles.loc[:,\"followers\"]"
   ]
  },
  {
   "cell_type": "code",
   "execution_count": 16,
   "id": "6fa07b67",
   "metadata": {},
   "outputs": [
    {
     "data": {
      "image/png": "[encoded data removed]",
      "text/plain": [
       "<Figure size 432x288 with 1 Axes>"
      ]
     },
     "metadata": {
      "needs_background": "light"
     },
     "output_type": "display_data"
    }
   ],
   "source": [
    "plt.plot(df_profiles.loc[:,'n_posts'])\n",
    "plt.show()"
   ]
  },
  {
   "cell_type": "code",
   "execution_count": 17,
   "id": "11f2c424",
   "metadata": {},
   "outputs": [],
   "source": [
    "#locations"
   ]
  },
  {
   "cell_type": "code",
   "execution_count": 18,
   "id": "038571d4",
   "metadata": {},
   "outputs": [
    {
     "data": {
      "text/plain": [
       "Index(['sid', 'id', 'name', 'street', 'zip', 'city', 'region', 'cd', 'phone',\n",
       "       'aj_exact_city_match', 'aj_exact_country_match', 'blurb', 'dir_city_id',\n",
       "       'dir_city_name', 'dir_city_slug', 'dir_country_id', 'dir_country_name',\n",
       "       'lat', 'lng', 'primary_alias_on_fb', 'slug', 'website', 'cts'],\n",
       "      dtype='object')"
      ]
     },
     "execution_count": 18,
     "metadata": {},
     "output_type": "execute_result"
    }
   ],
   "source": [
    "df_locations.columns"
   ]
  },
  {
   "cell_type": "code",
   "execution_count": 19,
   "id": "f96b9d9f",
   "metadata": {},
   "outputs": [
    {
     "data": {
      "text/plain": [
       "sid                                int32\n",
       "id                                 int64\n",
       "name                              object\n",
       "street                            object\n",
       "zip                               object\n",
       "city                              object\n",
       "region                            object\n",
       "cd                                object\n",
       "phone                             object\n",
       "aj_exact_city_match               object\n",
       "aj_exact_country_match            object\n",
       "blurb                             object\n",
       "dir_city_id                       object\n",
       "dir_city_name                     object\n",
       "dir_city_slug                     object\n",
       "dir_country_id                    object\n",
       "dir_country_name                  object\n",
       "lat                              float64\n",
       "lng                              float64\n",
       "primary_alias_on_fb               object\n",
       "slug                              object\n",
       "website                           object\n",
       "cts                       datetime64[ns]\n",
       "dtype: object"
      ]
     },
     "execution_count": 19,
     "metadata": {},
     "output_type": "execute_result"
    }
   ],
   "source": [
    "df_locations.dtypes"
   ]
  },
  {
   "cell_type": "code",
   "execution_count": 20,
   "id": "2adfa0da",
   "metadata": {},
   "outputs": [
    {
     "data": {
      "text/plain": [
       "\" 23 columns:\\n['sid', 'id', 'name', 'street', 'zip', 'city', 'region', 'cd', 'phone',\\n       'aj_exact_city_match', 'aj_exact_country_match', 'blurb', 'dir_city_id',\\n       'dir_city_name', 'dir_city_slug', 'dir_country_id', 'dir_country_name',\\n       'lat', 'lng', 'primary_alias_on_fb', 'slug', 'website', 'cts']\\n       \\nSID is the Sequence ID (int32)\\nID are the Instagrams ID for that could be used on the website (int64)\\nName are the Locations Name (object)\\nStreen is the Street Address, that may contain a text (object)\\nZIP is the Zip code (object)\\nCity is the City Name where was published that post (object)\\nRegion represents the Region where was published that post (object)\\nCD is the Country Code (object)\\nPhone is the phone in format as on the Instragram (object)\\naj_exact_city_match are The Instagrams Internal key (object)\\naj_exact_country_match are The Instagrams Internal key (object)\\nblurb is the Description of the place, may contain a text (object)\\ndir_city_id is the Instagrams internal City ID (object)\\ndir_city_name ia the city Name (object)\\ndir_city_slug is the City tag (object)\\ndir_country_id is the Country ID (object)\\ndir_country_name the country name (object)\\nlat is the Latitude (float64)\\nlng is the Longtitude (float64)\\nprimary_alias_on_fb is a Bool Flag (object)\\nslug (object)\\nwebsite is the URL to web site, may contain more then 1 URL, may contain a text (object)\\ncts is the Timestamp when the location was visited (datetime64[ns])\\n\\n\""
      ]
     },
     "execution_count": 20,
     "metadata": {},
     "output_type": "execute_result"
    }
   ],
   "source": [
    "''' 23 columns:\n",
    "['sid', 'id', 'name', 'street', 'zip', 'city', 'region', 'cd', 'phone',\n",
    "       'aj_exact_city_match', 'aj_exact_country_match', 'blurb', 'dir_city_id',\n",
    "       'dir_city_name', 'dir_city_slug', 'dir_country_id', 'dir_country_name',\n",
    "       'lat', 'lng', 'primary_alias_on_fb', 'slug', 'website', 'cts']\n",
    "       \n",
    "SID is the Sequence ID (int32)\n",
    "ID are the Instagrams ID for that could be used on the website (int64)\n",
    "Name are the Locations Name (object)\n",
    "Streen is the Street Address, that may contain a text (object)\n",
    "ZIP is the Zip code (object)\n",
    "City is the City Name where was published that post (object)\n",
    "Region represents the Region where was published that post (object)\n",
    "CD is the Country Code (object)\n",
    "Phone is the phone in format as on the Instragram (object)\n",
    "aj_exact_city_match are The Instagrams Internal key (object)\n",
    "aj_exact_country_match are The Instagrams Internal key (object)\n",
    "blurb is the Description of the place, may contain a text (object)\n",
    "dir_city_id is the Instagrams internal City ID (object)\n",
    "dir_city_name ia the city Name (object)\n",
    "dir_city_slug is the City tag (object)\n",
    "dir_country_id is the Country ID (object)\n",
    "dir_country_name the country name (object)\n",
    "lat is the Latitude (float64)\n",
    "lng is the Longtitude (float64)\n",
    "primary_alias_on_fb is a Bool Flag (object)\n",
    "slug (object)\n",
    "website is the URL to web site, may contain more then 1 URL, may contain a text (object)\n",
    "cts is the Timestamp when the location was visited (datetime64[ns])\n",
    "\n",
    "'''"
   ]
  },
  {
   "cell_type": "code",
   "execution_count": 21,
   "id": "7cd943f1",
   "metadata": {
    "scrolled": true
   },
   "outputs": [
    {
     "name": "stdout",
     "output_type": "stream",
     "text": [
      "                 sid                       id            lat            lng\n",
      "count 1022658.000000           1022658.000000 1016495.000000 1016495.000000\n",
      "mean   527485.577204   315285148665633.812500     -15.292154      34.217183\n",
      "std    299456.673518   579503129442379.750000      76.150852      22.010811\n",
      "min         1.000000                 7.000000    -179.983000     -90.000000\n",
      "25%    268839.250000         252237740.500000     -80.155751      29.975545\n",
      "50%    530040.500000         857334979.500000      -2.450000      40.678203\n",
      "75%    786659.750000   330466182727454.500000      30.717396      48.847222\n",
      "max   1043657.000000 24021480757865152.000000     179.994121      89.998698\n"
     ]
    }
   ],
   "source": [
    "with pd.option_context(\"float_format\", \"{:f}\".format):\n",
    "        print(df_locations.describe())"
   ]
  },
  {
   "cell_type": "code",
   "execution_count": 22,
   "id": "6ef66794",
   "metadata": {},
   "outputs": [
    {
     "data": {
      "text/plain": [
       "0"
      ]
     },
     "execution_count": 22,
     "metadata": {},
     "output_type": "execute_result"
    }
   ],
   "source": [
    "df_locations.duplicated().sum() #also here we don't have duplicates"
   ]
  },
  {
   "cell_type": "code",
   "execution_count": 23,
   "id": "768c080c",
   "metadata": {},
   "outputs": [],
   "source": [
    "#posts"
   ]
  },
  {
   "cell_type": "code",
   "execution_count": 24,
   "id": "59f702bf",
   "metadata": {},
   "outputs": [
    {
     "name": "stdout",
     "output_type": "stream",
     "text": [
      "          sid_profile    profile_id   location_id                 cts  \\\n",
      "0             3496776  2.237948e+09  1.022366e+15 2017-08-06 20:06:57   \n",
      "1                  -1  5.579335e+09  4.574268e+14 2017-06-19 09:31:16   \n",
      "2                  -1  3.134296e+08  4.574268e+14 2017-03-11 20:05:03   \n",
      "3                  -1  1.837593e+09  4.574268e+14 2016-09-13 16:27:16   \n",
      "4                  -1  1.131527e+09  4.574268e+14 2015-10-18 10:19:27   \n",
      "...               ...           ...           ...                 ...   \n",
      "42710192           -1  5.556457e+09  4.574268e+14 2017-12-13 15:38:04   \n",
      "42710193           -1  3.371865e+08  4.574268e+14 2017-10-31 11:28:01   \n",
      "42710194           -1  3.289886e+09  4.574268e+14 2017-01-13 20:16:37   \n",
      "42710195           -1  8.536366e+09  4.267235e+06 2019-05-20 20:07:52   \n",
      "42710196      3972555  2.219100e+09  4.574268e+14 2018-03-12 02:57:17   \n",
      "\n",
      "          post_type  numbr_likes  \n",
      "0                 2         80.0  \n",
      "1                 1         25.0  \n",
      "2                 1          9.0  \n",
      "3                 1          4.0  \n",
      "4                 1          8.0  \n",
      "...             ...          ...  \n",
      "42710192          1         74.0  \n",
      "42710193          1         49.0  \n",
      "42710194          1         18.0  \n",
      "42710195          1         27.0  \n",
      "42710196          1       1824.0  \n",
      "\n",
      "[42710197 rows x 6 columns]\n"
     ]
    }
   ],
   "source": [
    "print(df_posts)"
   ]
  },
  {
   "cell_type": "code",
   "execution_count": 25,
   "id": "ff561558",
   "metadata": {},
   "outputs": [
    {
     "data": {
      "text/plain": [
       "Index(['sid_profile', 'profile_id', 'location_id', 'cts', 'post_type',\n",
       "       'numbr_likes'],\n",
       "      dtype='object')"
      ]
     },
     "execution_count": 25,
     "metadata": {},
     "output_type": "execute_result"
    }
   ],
   "source": [
    "df_posts.columns"
   ]
  },
  {
   "cell_type": "code",
   "execution_count": 26,
   "id": "387e119c",
   "metadata": {},
   "outputs": [
    {
     "data": {
      "text/plain": [
       "sid_profile             int32\n",
       "profile_id            float64\n",
       "location_id           float64\n",
       "cts            datetime64[ns]\n",
       "post_type               int32\n",
       "numbr_likes           float64\n",
       "dtype: object"
      ]
     },
     "execution_count": 26,
     "metadata": {},
     "output_type": "execute_result"
    }
   ],
   "source": [
    "df_posts.dtypes"
   ]
  },
  {
   "cell_type": "code",
   "execution_count": 26,
   "id": "fc0fc6fb",
   "metadata": {},
   "outputs": [
    {
     "data": {
      "text/plain": [
       "\"'\\n10 columns:\\n['SID', sid_profile', 'profile_id', 'location_id', 'cts', 'post_type', 'description', 'numbr_likes','number_comments']\\n\\n-SID represents the Sequence ID \\n-sid_profile are the Sequence ID of the profile (int32)\\n-post_id is are Instagrams ID \\n-profile_id are Instagrams ID that might be null (float64)\\n-location_id are the Instagrams ID (float64)\\n-cts is the Timestamp when the Post was created\\n-post_type, is the type of that post where: 1 - Photo, 2 - Video, 3 - multy (int32)\\n-description can contain a description \\n-numbr_likes are the Number of Likes at the moment it was visited (float64)\\n-number_comments are the Number of comments at the moment it was visited (float64)\\n\""
      ]
     },
     "execution_count": 26,
     "metadata": {},
     "output_type": "execute_result"
    }
   ],
   "source": [
    "''''\n",
    "10 columns:\n",
    "['SID', sid_profile', 'profile_id', 'location_id', 'cts', 'post_type', 'description', 'numbr_likes','number_comments']\n",
    "\n",
    "-SID represents the Sequence ID \n",
    "-sid_profile are the Sequence ID of the profile (int32)\n",
    "-post_id is are Instagrams ID \n",
    "-profile_id are Instagrams ID that might be null (float64)\n",
    "-location_id are the Instagrams ID (float64)\n",
    "-cts is the Timestamp when the Post was created\n",
    "-post_type, is the type of that post where: 1 - Photo, 2 - Video, 3 - multy (int32)\n",
    "-description can contain a description \n",
    "-numbr_likes are the Number of Likes at the moment it was visited (float64)\n",
    "-number_comments are the Number of comments at the moment it was visited (float64)\n",
    "'''"
   ]
  },
  {
   "cell_type": "code",
   "execution_count": 27,
   "id": "057cfae3",
   "metadata": {},
   "outputs": [
    {
     "name": "stdout",
     "output_type": "stream",
     "text": [
      "          sid_profile            profile_id              location_id  \\\n",
      "count 42710197.000000       40126905.000000          29737425.000000   \n",
      "mean   1586820.593251     3115015553.947373   250568383782444.281250   \n",
      "std    1613474.902184    56936540129.684486   531427100272625.375000   \n",
      "min         -1.000000              3.000000                 7.000000   \n",
      "25%         -1.000000      286918585.000000         224203325.000000   \n",
      "50%    1098768.000000     1623551580.000000         466824534.000000   \n",
      "75%    3285689.000000     5430715267.000000   217044369120152.000000   \n",
      "max    4510785.000000 90010135311447.000000 24021480757865152.000000   \n",
      "\n",
      "            post_type     numbr_likes  \n",
      "count 42710197.000000 42710161.000000  \n",
      "mean         1.028486      283.503046  \n",
      "std          0.172023     6124.611228  \n",
      "min          1.000000        0.000000  \n",
      "25%          1.000000       20.000000  \n",
      "50%          1.000000       46.000000  \n",
      "75%          1.000000      114.000000  \n",
      "max          3.000000  8822952.000000  \n"
     ]
    }
   ],
   "source": [
    "with pd.option_context(\"float_format\", \"{:f}\".format):\n",
    "        print(df_posts.describe())\n",
    "# here we can see the the main informations of the dataframe. "
   ]
  },
  {
   "cell_type": "markdown",
   "id": "f17dd7b6",
   "metadata": {},
   "source": [
    "# [RQ2] Let's explore the dataset by finding simple insights regarding the profile and posts.\n",
    "\n"
   ]
  },
  {
   "cell_type": "code",
   "execution_count": 28,
   "id": "73fd357b",
   "metadata": {},
   "outputs": [
    {
     "name": "stdout",
     "output_type": "stream",
     "text": [
      "0\n",
      "1\n",
      "2\n",
      "ok\n"
     ]
    }
   ],
   "source": [
    "df_posts = dt.fread(r\"instagram_posts.csv\", sep= '\\t', columns = {'sid_profile', 'profile_id', 'location_id', 'post_type', 'numbr_likes', 'number_comments'}).to_pandas()\n",
    "\n",
    "print('ok')\n"
   ]
  },
  {
   "cell_type": "markdown",
   "id": "72753e85",
   "metadata": {},
   "source": [
    "## 2.1 Plot the number of posts for each profile in descending order.\n"
   ]
  },
  {
   "cell_type": "code",
   "execution_count": 30,
   "id": "96410ba6",
   "metadata": {},
   "outputs": [
    {
     "data": {
      "text/html": [
       "<div>\n",
       "<style scoped>\n",
       "    .dataframe tbody tr th:only-of-type {\n",
       "        vertical-align: middle;\n",
       "    }\n",
       "\n",
       "    .dataframe tbody tr th {\n",
       "        vertical-align: top;\n",
       "    }\n",
       "\n",
       "    .dataframe thead th {\n",
       "        text-align: right;\n",
       "    }\n",
       "</style>\n",
       "<table border=\"1\" class=\"dataframe\">\n",
       "  <thead>\n",
       "    <tr style=\"text-align: right;\">\n",
       "      <th></th>\n",
       "      <th>sid</th>\n",
       "      <th>numbr_likes</th>\n",
       "      <th>number_comments</th>\n",
       "    </tr>\n",
       "  </thead>\n",
       "  <tbody>\n",
       "    <tr>\n",
       "      <th>0</th>\n",
       "      <td>28370919</td>\n",
       "      <td>80.0</td>\n",
       "      <td>0.0</td>\n",
       "    </tr>\n",
       "    <tr>\n",
       "      <th>1</th>\n",
       "      <td>28370932</td>\n",
       "      <td>25.0</td>\n",
       "      <td>1.0</td>\n",
       "    </tr>\n",
       "    <tr>\n",
       "      <th>2</th>\n",
       "      <td>28370933</td>\n",
       "      <td>9.0</td>\n",
       "      <td>0.0</td>\n",
       "    </tr>\n",
       "    <tr>\n",
       "      <th>3</th>\n",
       "      <td>28370934</td>\n",
       "      <td>4.0</td>\n",
       "      <td>0.0</td>\n",
       "    </tr>\n",
       "    <tr>\n",
       "      <th>4</th>\n",
       "      <td>28370935</td>\n",
       "      <td>8.0</td>\n",
       "      <td>0.0</td>\n",
       "    </tr>\n",
       "    <tr>\n",
       "      <th>...</th>\n",
       "      <td>...</td>\n",
       "      <td>...</td>\n",
       "      <td>...</td>\n",
       "    </tr>\n",
       "    <tr>\n",
       "      <th>42710192</th>\n",
       "      <td>28370925</td>\n",
       "      <td>74.0</td>\n",
       "      <td>0.0</td>\n",
       "    </tr>\n",
       "    <tr>\n",
       "      <th>42710193</th>\n",
       "      <td>28370926</td>\n",
       "      <td>49.0</td>\n",
       "      <td>0.0</td>\n",
       "    </tr>\n",
       "    <tr>\n",
       "      <th>42710194</th>\n",
       "      <td>28370929</td>\n",
       "      <td>18.0</td>\n",
       "      <td>0.0</td>\n",
       "    </tr>\n",
       "    <tr>\n",
       "      <th>42710195</th>\n",
       "      <td>28370997</td>\n",
       "      <td>27.0</td>\n",
       "      <td>1.0</td>\n",
       "    </tr>\n",
       "    <tr>\n",
       "      <th>42710196</th>\n",
       "      <td>28370928</td>\n",
       "      <td>1824.0</td>\n",
       "      <td>49.0</td>\n",
       "    </tr>\n",
       "  </tbody>\n",
       "</table>\n",
       "<p>42710161 rows × 3 columns</p>\n",
       "</div>"
      ],
      "text/plain": [
       "               sid  numbr_likes  number_comments\n",
       "0         28370919         80.0              0.0\n",
       "1         28370932         25.0              1.0\n",
       "2         28370933          9.0              0.0\n",
       "3         28370934          4.0              0.0\n",
       "4         28370935          8.0              0.0\n",
       "...            ...          ...              ...\n",
       "42710192  28370925         74.0              0.0\n",
       "42710193  28370926         49.0              0.0\n",
       "42710194  28370929         18.0              0.0\n",
       "42710195  28370997         27.0              1.0\n",
       "42710196  28370928       1824.0             49.0\n",
       "\n",
       "[42710161 rows x 3 columns]"
      ]
     },
     "execution_count": 30,
     "metadata": {},
     "output_type": "execute_result"
    }
   ],
   "source": [
    "df_22 = dt.fread(r\"instagram_posts.csv\", sep= '\\t', columns = {'sid', 'numbr_likes', 'number_comments'}).to_pandas()\n",
    "df_22.dropna() "
   ]
  },
  {
   "cell_type": "code",
   "execution_count": 31,
   "id": "4e2d2e6d",
   "metadata": {},
   "outputs": [
    {
     "data": {
      "image/png": "[encoded data removed]",
      "text/plain": [
       "<Figure size 432x288 with 1 Axes>"
      ]
     },
     "metadata": {
      "needs_background": "light"
     },
     "output_type": "display_data"
    }
   ],
   "source": [
    "df_plot=df_profiles.sort_values(by=['n_posts'], ascending=False)\n",
    "df_plot=df_plot.dropna()\n",
    "df_plot['int_index'] = range(len(df_plot))\n",
    "df_plot.plot(x='int_index',y='n_posts')\n",
    "plt.show()"
   ]
  },
  {
   "cell_type": "markdown",
   "id": "ef2df288",
   "metadata": {},
   "source": [
    "## 2.2 What posts have the highest number of \"likes\"?\n"
   ]
  },
  {
   "cell_type": "code",
   "execution_count": 32,
   "id": "1bb99465",
   "metadata": {},
   "outputs": [
    {
     "data": {
      "text/html": [
       "<div>\n",
       "<style scoped>\n",
       "    .dataframe tbody tr th:only-of-type {\n",
       "        vertical-align: middle;\n",
       "    }\n",
       "\n",
       "    .dataframe tbody tr th {\n",
       "        vertical-align: top;\n",
       "    }\n",
       "\n",
       "    .dataframe thead th {\n",
       "        text-align: right;\n",
       "    }\n",
       "</style>\n",
       "<table border=\"1\" class=\"dataframe\">\n",
       "  <thead>\n",
       "    <tr style=\"text-align: right;\">\n",
       "      <th></th>\n",
       "      <th>sid</th>\n",
       "      <th>numbr_likes</th>\n",
       "      <th>number_comments</th>\n",
       "    </tr>\n",
       "  </thead>\n",
       "  <tbody>\n",
       "    <tr>\n",
       "      <th>19624085</th>\n",
       "      <td>4768909</td>\n",
       "      <td>8822952.0</td>\n",
       "      <td>165886.0</td>\n",
       "    </tr>\n",
       "    <tr>\n",
       "      <th>19623988</th>\n",
       "      <td>4768904</td>\n",
       "      <td>5447066.0</td>\n",
       "      <td>25303.0</td>\n",
       "    </tr>\n",
       "    <tr>\n",
       "      <th>19624082</th>\n",
       "      <td>4768906</td>\n",
       "      <td>5116398.0</td>\n",
       "      <td>40608.0</td>\n",
       "    </tr>\n",
       "    <tr>\n",
       "      <th>19623986</th>\n",
       "      <td>4768902</td>\n",
       "      <td>4271466.0</td>\n",
       "      <td>30770.0</td>\n",
       "    </tr>\n",
       "    <tr>\n",
       "      <th>39701024</th>\n",
       "      <td>25302472</td>\n",
       "      <td>4264745.0</td>\n",
       "      <td>18691.0</td>\n",
       "    </tr>\n",
       "    <tr>\n",
       "      <th>6293907</th>\n",
       "      <td>34909573</td>\n",
       "      <td>3586546.0</td>\n",
       "      <td>15405.0</td>\n",
       "    </tr>\n",
       "    <tr>\n",
       "      <th>19624086</th>\n",
       "      <td>4768910</td>\n",
       "      <td>3558599.0</td>\n",
       "      <td>15715.0</td>\n",
       "    </tr>\n",
       "    <tr>\n",
       "      <th>19802016</th>\n",
       "      <td>4935518</td>\n",
       "      <td>3533326.0</td>\n",
       "      <td>59475.0</td>\n",
       "    </tr>\n",
       "    <tr>\n",
       "      <th>30850564</th>\n",
       "      <td>15431581</td>\n",
       "      <td>3340297.0</td>\n",
       "      <td>149489.0</td>\n",
       "    </tr>\n",
       "    <tr>\n",
       "      <th>39812576</th>\n",
       "      <td>25415502</td>\n",
       "      <td>3311246.0</td>\n",
       "      <td>64318.0</td>\n",
       "    </tr>\n",
       "  </tbody>\n",
       "</table>\n",
       "</div>"
      ],
      "text/plain": [
       "               sid  numbr_likes  number_comments\n",
       "19624085   4768909    8822952.0         165886.0\n",
       "19623988   4768904    5447066.0          25303.0\n",
       "19624082   4768906    5116398.0          40608.0\n",
       "19623986   4768902    4271466.0          30770.0\n",
       "39701024  25302472    4264745.0          18691.0\n",
       "6293907   34909573    3586546.0          15405.0\n",
       "19624086   4768910    3558599.0          15715.0\n",
       "19802016   4935518    3533326.0          59475.0\n",
       "30850564  15431581    3340297.0         149489.0\n",
       "39812576  25415502    3311246.0          64318.0"
      ]
     },
     "execution_count": 32,
     "metadata": {},
     "output_type": "execute_result"
    }
   ],
   "source": [
    "#find top 10 posts with most likes\n",
    "df_22.dropna(axis=0, inplace=True)\n",
    "df_22.sort_values(by=['numbr_likes'], ascending=False).head(10)"
   ]
  },
  {
   "cell_type": "markdown",
   "id": "78bfc60d",
   "metadata": {},
   "source": [
    "## 2.3 What posts have the most and the least number of comments?\n"
   ]
  },
  {
   "cell_type": "code",
   "execution_count": 33,
   "id": "93837aba",
   "metadata": {},
   "outputs": [
    {
     "data": {
      "text/html": [
       "<div>\n",
       "<style scoped>\n",
       "    .dataframe tbody tr th:only-of-type {\n",
       "        vertical-align: middle;\n",
       "    }\n",
       "\n",
       "    .dataframe tbody tr th {\n",
       "        vertical-align: top;\n",
       "    }\n",
       "\n",
       "    .dataframe thead th {\n",
       "        text-align: right;\n",
       "    }\n",
       "</style>\n",
       "<table border=\"1\" class=\"dataframe\">\n",
       "  <thead>\n",
       "    <tr style=\"text-align: right;\">\n",
       "      <th></th>\n",
       "      <th>sid</th>\n",
       "      <th>numbr_likes</th>\n",
       "      <th>number_comments</th>\n",
       "    </tr>\n",
       "  </thead>\n",
       "  <tbody>\n",
       "    <tr>\n",
       "      <th>10727132</th>\n",
       "      <td>38579660</td>\n",
       "      <td>36.0</td>\n",
       "      <td>0.0</td>\n",
       "    </tr>\n",
       "    <tr>\n",
       "      <th>29592201</th>\n",
       "      <td>14191065</td>\n",
       "      <td>17.0</td>\n",
       "      <td>0.0</td>\n",
       "    </tr>\n",
       "    <tr>\n",
       "      <th>29592204</th>\n",
       "      <td>14191075</td>\n",
       "      <td>9.0</td>\n",
       "      <td>0.0</td>\n",
       "    </tr>\n",
       "    <tr>\n",
       "      <th>29592205</th>\n",
       "      <td>14191079</td>\n",
       "      <td>1120.0</td>\n",
       "      <td>0.0</td>\n",
       "    </tr>\n",
       "    <tr>\n",
       "      <th>10727121</th>\n",
       "      <td>38579714</td>\n",
       "      <td>83.0</td>\n",
       "      <td>0.0</td>\n",
       "    </tr>\n",
       "    <tr>\n",
       "      <th>10727119</th>\n",
       "      <td>38579640</td>\n",
       "      <td>16.0</td>\n",
       "      <td>0.0</td>\n",
       "    </tr>\n",
       "    <tr>\n",
       "      <th>10727117</th>\n",
       "      <td>38579630</td>\n",
       "      <td>29.0</td>\n",
       "      <td>0.0</td>\n",
       "    </tr>\n",
       "    <tr>\n",
       "      <th>10727106</th>\n",
       "      <td>38579626</td>\n",
       "      <td>31.0</td>\n",
       "      <td>0.0</td>\n",
       "    </tr>\n",
       "    <tr>\n",
       "      <th>10727103</th>\n",
       "      <td>38579827</td>\n",
       "      <td>5.0</td>\n",
       "      <td>0.0</td>\n",
       "    </tr>\n",
       "    <tr>\n",
       "      <th>0</th>\n",
       "      <td>28370919</td>\n",
       "      <td>80.0</td>\n",
       "      <td>0.0</td>\n",
       "    </tr>\n",
       "  </tbody>\n",
       "</table>\n",
       "</div>"
      ],
      "text/plain": [
       "               sid  numbr_likes  number_comments\n",
       "10727132  38579660         36.0              0.0\n",
       "29592201  14191065         17.0              0.0\n",
       "29592204  14191075          9.0              0.0\n",
       "29592205  14191079       1120.0              0.0\n",
       "10727121  38579714         83.0              0.0\n",
       "10727119  38579640         16.0              0.0\n",
       "10727117  38579630         29.0              0.0\n",
       "10727106  38579626         31.0              0.0\n",
       "10727103  38579827          5.0              0.0\n",
       "0         28370919         80.0              0.0"
      ]
     },
     "execution_count": 33,
     "metadata": {},
     "output_type": "execute_result"
    }
   ],
   "source": [
    "#find top 10 posts with most commments\n",
    "df_22.sort_values(by=['number_comments'], ascending=False).head(10)\n",
    "\n",
    "#find bottom 10 posts with fewer comments\n",
    "df_22.sort_values(by=['number_comments'], ascending=False).tail(10)"
   ]
  },
  {
   "cell_type": "markdown",
   "id": "3e91be59",
   "metadata": {},
   "source": [
    "## 2.4 How many posts include tagged locations, and how many do not? Show it using an appropriate chart and comment your results.\n"
   ]
  },
  {
   "cell_type": "code",
   "execution_count": 34,
   "id": "81705585",
   "metadata": {},
   "outputs": [],
   "source": [
    "#How many posts include tagged locations, and how many do not? Show it using an appropriate chart and comment your results.\n",
    "\n",
    "df_24 = dt.fread(r\"instagram_posts.csv\", sep= '\\t', columns = {'sid', 'location_id'}).to_pandas()"
   ]
  },
  {
   "cell_type": "code",
   "execution_count": 35,
   "id": "4909b6de",
   "metadata": {},
   "outputs": [
    {
     "data": {
      "image/png": "[encoded data removed]",
      "text/plain": [
       "<Figure size 432x288 with 1 Axes>"
      ]
     },
     "metadata": {},
     "output_type": "display_data"
    }
   ],
   "source": [
    "no_location=df_24['location_id'].isna().sum() \n",
    "no_location\n",
    "\n",
    "yes_location = df_24.shape[0] - no_location\n",
    "\n",
    "sizes = [no_location, yes_location]\n",
    "labels = ['Posts without location', 'Posts with location']\n",
    "\n",
    "fig1, ax1 = plt.subplots()\n",
    "ax1.pie(sizes, labels=labels, autopct='%1.1f%%',\n",
    "        shadow=False, startangle=90)\n",
    "\n",
    "ax1.axis('equal')  # Equal aspect ratio ensures that pie is drawn as a circle.\n",
    "\n",
    "plt.show()\n",
    "\n",
    "#The majority of posts have a location associated with it\n",
    "#this means that a post is more likely to include a location rather than not regarding this instagram topic"
   ]
  },
  {
   "cell_type": "markdown",
   "id": "7b863413",
   "metadata": {},
   "source": [
    "## 2.5 How many posts include only photos? How many also have videos?\n"
   ]
  },
  {
   "cell_type": "code",
   "execution_count": 36,
   "id": "16fd6b38",
   "metadata": {},
   "outputs": [
    {
     "data": {
      "text/plain": [
       "1    41534486\n",
       "2     1134768\n",
       "3       40943\n",
       "Name: post_type, dtype: int64"
      ]
     },
     "execution_count": 36,
     "metadata": {},
     "output_type": "execute_result"
    }
   ],
   "source": [
    "df_posts['post_type'].value_counts()\n",
    "\n",
    "#41534486 posts contains photos only\n",
    "#1134768 posts contains videos only\n",
    "#40943 posts contains both"
   ]
  },
  {
   "cell_type": "markdown",
   "id": "4625ce61",
   "metadata": {},
   "source": [
    "## 2.6 What's the percentage of business accounts vs non-business? What can you interpret regarding that percentage?\n"
   ]
  },
  {
   "cell_type": "code",
   "execution_count": 37,
   "id": "99beb92f",
   "metadata": {},
   "outputs": [
    {
     "data": {
      "image/png": "[encoded data removed]",
      "text/plain": [
       "<Figure size 432x288 with 1 Axes>"
      ]
     },
     "metadata": {},
     "output_type": "display_data"
    }
   ],
   "source": [
    "#2.6\n",
    "\n",
    "arr = df_profiles['is_business_account'].value_counts()\n",
    "\n",
    "sizes = [arr[1], arr[0]]\n",
    "labels = ['Business Accounts', 'Normal Users Accounts']\n",
    "\n",
    "fig1, ax1 = plt.subplots()\n",
    "ax1.pie(sizes, labels=labels, autopct='%1.1f%%',\n",
    "        shadow=False, startangle=90)\n",
    "\n",
    "ax1.axis('equal')  # Equal aspect ratio ensures that pie is drawn as a circle.\n",
    "\n",
    "plt.show()\n",
    "\n",
    "#one quarter of instagram users in this dataset are business accounts\n",
    "#this number is pretty high considering average account distribution\n",
    "#maybe some of the business accounts are also used as users accounts"
   ]
  },
  {
   "cell_type": "markdown",
   "id": "1d57e283",
   "metadata": {},
   "source": [
    "# [RQ3] Now it's important to understand the most common times in which users publish their posts\n",
    "\n"
   ]
  },
  {
   "cell_type": "code",
   "execution_count": 62,
   "id": "c4807b17",
   "metadata": {},
   "outputs": [],
   "source": [
    "df_posts_3 = dt.fread(r\"instagram_posts.csv\", sep= '\\t', columns = {'sid_profile', 'profile_id', 'cts'}).to_pandas()"
   ]
  },
  {
   "cell_type": "markdown",
   "id": "05f4cbc2",
   "metadata": {},
   "source": [
    "## 3.1 What is the most common time in which users publish their posts?\n"
   ]
  },
  {
   "cell_type": "code",
   "execution_count": 66,
   "id": "3c9396b2",
   "metadata": {},
   "outputs": [],
   "source": [
    "\n",
    "d = {} #dictionary containing occurencies for each cts on posts\n",
    "\n",
    "\n",
    "for i in range(len(df_posts_3)): #create dictionary with time occurrencies\n",
    "    \n",
    "    hour = str(df_posts_3['cts'][i])[11:]\n",
    "    \n",
    "    if hour in d:\n",
    "        d[hour]+=1\n",
    "    else:\n",
    "        d[hour]=1"
   ]
  },
  {
   "cell_type": "code",
   "execution_count": null,
   "id": "65f43153",
   "metadata": {},
   "outputs": [],
   "source": [
    "print('The most common time in which users publish their posts is ' + str(max(d, key=d.get)) + ', with ' + str(d[max(d, key=d.get)]) + ' occurencies')\n",
    "\n"
   ]
  },
  {
   "cell_type": "markdown",
   "id": "dc4853f9",
   "metadata": {},
   "source": [
    "## 3.2 Create a function that receives a time intervals list as a parameter and returns a plot with the number of posts for each given interval.\n"
   ]
  },
  {
   "cell_type": "code",
   "execution_count": 68,
   "id": "fd32f563",
   "metadata": {},
   "outputs": [],
   "source": [
    "#SUPPOSING THAT EVERY TIME INTERVAL IN THE LIST IS WRITTEN IN THE FORMAT 'hh:mm:ss-hh:mm:ss'\n",
    "#this function uses the dictionary previously created\n",
    "\n",
    "def plot_posts_time_intervals(time_intervals=[], d_datas={}):\n",
    "    \n",
    "    if ('' in d):\n",
    "        d.pop('',None)\n",
    "    \n",
    "    posts_count = [] #counter for posts in each time interval\n",
    "    \n",
    "    for interval in time_intervals:\n",
    "        \n",
    "        i_count=0\n",
    "        \n",
    "        h1=int(interval[:2]) #split interval margins into integers\n",
    "        m1=int(interval[3:5])\n",
    "        s1=int(interval[6:8])\n",
    "        h2=int(interval[9:11])\n",
    "        m2=int(interval[12:14])\n",
    "        s2=int(interval[15:])\n",
    "        \n",
    "\n",
    "        \n",
    "        for key in d_datas:\n",
    "            \n",
    "            \n",
    "            k_h=int(key[:2]) #split time into integers\n",
    "            k_m=int(key[3:5])\n",
    "            k_s=int(key[6:8])\n",
    "            \n",
    "            if (h1 <=k_h and m1<=k_m and s1<=k_s and h2>=k_h and m2>=k_m and s2>=k_s): #if time is in the given interval\n",
    "                \n",
    "                i_count+=d[key] #increment posts on that interval for this specific time\n",
    "            \n",
    "        \n",
    "        \n",
    "        posts_count.append(i_count)\n",
    "        \n",
    "    print(posts_count)\n",
    "    plt.title('Number of Posts')\n",
    "    plt.xlabel('Time')\n",
    "    plt.ylabel('Posts')\n",
    "    plt.plot(time_intervals, posts_count)\n",
    "\n",
    "    plt.show()\n",
    "                "
   ]
  },
  {
   "cell_type": "markdown",
   "id": "4396fe17",
   "metadata": {},
   "source": [
    "## 3.3 Use the function that you created in the previous literal to plot the number of posts between the following time intervals:\n"
   ]
  },
  {
   "cell_type": "code",
   "execution_count": 70,
   "id": "28d624d4",
   "metadata": {},
   "outputs": [
    {
     "ename": "ValueError",
     "evalue": "invalid literal for int() with base 10: ''",
     "output_type": "error",
     "traceback": [
      "\u001b[1;31m---------------------------------------------------------------------------\u001b[0m",
      "\u001b[1;31mValueError\u001b[0m                                Traceback (most recent call last)",
      "Input \u001b[1;32mIn [70]\u001b[0m, in \u001b[0;36m<cell line: 3>\u001b[1;34m()\u001b[0m\n\u001b[0;32m      1\u001b[0m times \u001b[38;5;241m=\u001b[39m [\u001b[38;5;124m\"\u001b[39m\u001b[38;5;124m06:00:00-10:59:59\u001b[39m\u001b[38;5;124m\"\u001b[39m,\u001b[38;5;124m\"\u001b[39m\u001b[38;5;124m11:00:00-13:59:59\u001b[39m\u001b[38;5;124m\"\u001b[39m, \u001b[38;5;124m\"\u001b[39m\u001b[38;5;124m14:00:00-16:59:59\u001b[39m\u001b[38;5;124m\"\u001b[39m,\u001b[38;5;124m\"\u001b[39m\u001b[38;5;124m17:00:00-19:59:59\u001b[39m\u001b[38;5;124m\"\u001b[39m,\u001b[38;5;124m\"\u001b[39m\u001b[38;5;124m20:00:00-23:59:59\u001b[39m\u001b[38;5;124m\"\u001b[39m,\u001b[38;5;124m\"\u001b[39m\u001b[38;5;124m00:00:00-02:59:59\u001b[39m\u001b[38;5;124m\"\u001b[39m,\u001b[38;5;124m\"\u001b[39m\u001b[38;5;124m03:00:00-05:59:59\u001b[39m\u001b[38;5;124m\"\u001b[39m]\n\u001b[1;32m----> 3\u001b[0m \u001b[43mplot_posts_time_intervals\u001b[49m\u001b[43m(\u001b[49m\u001b[43mtimes\u001b[49m\u001b[43m,\u001b[49m\u001b[43md\u001b[49m\u001b[43m)\u001b[49m\n",
      "Input \u001b[1;32mIn [68]\u001b[0m, in \u001b[0;36mplot_posts_time_intervals\u001b[1;34m(time_intervals, d_datas)\u001b[0m\n\u001b[0;32m     16\u001b[0m s2\u001b[38;5;241m=\u001b[39m\u001b[38;5;28mint\u001b[39m(interval[\u001b[38;5;241m15\u001b[39m:])\n\u001b[0;32m     20\u001b[0m \u001b[38;5;28;01mfor\u001b[39;00m key \u001b[38;5;129;01min\u001b[39;00m d_datas:\n\u001b[1;32m---> 23\u001b[0m     k_h\u001b[38;5;241m=\u001b[39m\u001b[38;5;28;43mint\u001b[39;49m\u001b[43m(\u001b[49m\u001b[43mkey\u001b[49m\u001b[43m[\u001b[49m\u001b[43m:\u001b[49m\u001b[38;5;241;43m2\u001b[39;49m\u001b[43m]\u001b[49m\u001b[43m)\u001b[49m\n\u001b[0;32m     24\u001b[0m     k_m\u001b[38;5;241m=\u001b[39m\u001b[38;5;28mint\u001b[39m(key[\u001b[38;5;241m3\u001b[39m:\u001b[38;5;241m5\u001b[39m])\n\u001b[0;32m     25\u001b[0m     k_s\u001b[38;5;241m=\u001b[39m\u001b[38;5;28mint\u001b[39m(key[\u001b[38;5;241m6\u001b[39m:\u001b[38;5;241m8\u001b[39m])\n",
      "\u001b[1;31mValueError\u001b[0m: invalid literal for int() with base 10: ''"
     ]
    }
   ],
   "source": [
    "times = [\"06:00:00-10:59:59\",\"11:00:00-13:59:59\", \"14:00:00-16:59:59\",\"17:00:00-19:59:59\",\"20:00:00-23:59:59\",\"00:00:00-02:59:59\",\"03:00:00-05:59:59\"]\n",
    "\n",
    "plot_posts_time_intervals(times,d)"
   ]
  },
  {
   "cell_type": "markdown",
   "id": "53b24768",
   "metadata": {},
   "source": [
    "# [RQ4] In most cases, we will not have a consistent dataset, and the one we are dealing with is not an exception (ex. in the given datasets, you may not find the information of the profiles for some of the posts). So let’s enhance our analysis.\n",
    "\n"
   ]
  },
  {
   "cell_type": "code",
   "execution_count": 8,
   "id": "9affbcea",
   "metadata": {},
   "outputs": [],
   "source": [
    "df_posts_4= dt.fread(r\"instagram_posts.csv\", sep= '\\t', columns = {'profile_id', 'numbr_likes', 'number_comments','cts'}).to_pandas()\n"
   ]
  },
  {
   "cell_type": "markdown",
   "id": "f6adb210",
   "metadata": {},
   "source": [
    "## 4.1 Write a function that, given a profile_id, will be able to return the posts that belong to the given profile_id.\n"
   ]
  },
  {
   "cell_type": "code",
   "execution_count": 9,
   "id": "dff8f9f2",
   "metadata": {},
   "outputs": [],
   "source": [
    "def get_posts_by_id(profile_id):\n",
    "    return df_posts_4.query('profile_id == {}'.format(profile_id))"
   ]
  },
  {
   "cell_type": "code",
   "execution_count": 10,
   "id": "dcd653c8",
   "metadata": {},
   "outputs": [
    {
     "data": {
      "text/html": [
       "<div>\n",
       "<style scoped>\n",
       "    .dataframe tbody tr th:only-of-type {\n",
       "        vertical-align: middle;\n",
       "    }\n",
       "\n",
       "    .dataframe tbody tr th {\n",
       "        vertical-align: top;\n",
       "    }\n",
       "\n",
       "    .dataframe thead th {\n",
       "        text-align: right;\n",
       "    }\n",
       "</style>\n",
       "<table border=\"1\" class=\"dataframe\">\n",
       "  <thead>\n",
       "    <tr style=\"text-align: right;\">\n",
       "      <th></th>\n",
       "      <th>profile_id</th>\n",
       "      <th>cts</th>\n",
       "      <th>numbr_likes</th>\n",
       "      <th>number_comments</th>\n",
       "    </tr>\n",
       "  </thead>\n",
       "  <tbody>\n",
       "    <tr>\n",
       "      <th>980</th>\n",
       "      <td>260162660.0</td>\n",
       "      <td>2018-03-11 14:48:58</td>\n",
       "      <td>18.0</td>\n",
       "      <td>0.0</td>\n",
       "    </tr>\n",
       "    <tr>\n",
       "      <th>981</th>\n",
       "      <td>260162660.0</td>\n",
       "      <td>2019-05-24 09:04:47</td>\n",
       "      <td>1.0</td>\n",
       "      <td>0.0</td>\n",
       "    </tr>\n",
       "    <tr>\n",
       "      <th>982</th>\n",
       "      <td>260162660.0</td>\n",
       "      <td>2019-05-18 20:30:53</td>\n",
       "      <td>11.0</td>\n",
       "      <td>0.0</td>\n",
       "    </tr>\n",
       "    <tr>\n",
       "      <th>983</th>\n",
       "      <td>260162660.0</td>\n",
       "      <td>2019-05-18 02:05:56</td>\n",
       "      <td>14.0</td>\n",
       "      <td>2.0</td>\n",
       "    </tr>\n",
       "    <tr>\n",
       "      <th>984</th>\n",
       "      <td>260162660.0</td>\n",
       "      <td>2019-05-16 14:41:08</td>\n",
       "      <td>4.0</td>\n",
       "      <td>0.0</td>\n",
       "    </tr>\n",
       "    <tr>\n",
       "      <th>985</th>\n",
       "      <td>260162660.0</td>\n",
       "      <td>2019-05-16 04:09:50</td>\n",
       "      <td>4.0</td>\n",
       "      <td>0.0</td>\n",
       "    </tr>\n",
       "    <tr>\n",
       "      <th>986</th>\n",
       "      <td>260162660.0</td>\n",
       "      <td>2019-05-15 13:54:26</td>\n",
       "      <td>31.0</td>\n",
       "      <td>1.0</td>\n",
       "    </tr>\n",
       "    <tr>\n",
       "      <th>987</th>\n",
       "      <td>260162660.0</td>\n",
       "      <td>2019-05-04 01:45:16</td>\n",
       "      <td>10.0</td>\n",
       "      <td>0.0</td>\n",
       "    </tr>\n",
       "    <tr>\n",
       "      <th>988</th>\n",
       "      <td>260162660.0</td>\n",
       "      <td>2019-04-30 05:56:05</td>\n",
       "      <td>0.0</td>\n",
       "      <td>0.0</td>\n",
       "    </tr>\n",
       "    <tr>\n",
       "      <th>989</th>\n",
       "      <td>260162660.0</td>\n",
       "      <td>2019-03-29 01:34:28</td>\n",
       "      <td>11.0</td>\n",
       "      <td>2.0</td>\n",
       "    </tr>\n",
       "    <tr>\n",
       "      <th>990</th>\n",
       "      <td>260162660.0</td>\n",
       "      <td>2019-02-07 16:52:24</td>\n",
       "      <td>19.0</td>\n",
       "      <td>1.0</td>\n",
       "    </tr>\n",
       "    <tr>\n",
       "      <th>991</th>\n",
       "      <td>260162660.0</td>\n",
       "      <td>2018-03-28 21:57:12</td>\n",
       "      <td>12.0</td>\n",
       "      <td>3.0</td>\n",
       "    </tr>\n",
       "    <tr>\n",
       "      <th>1034</th>\n",
       "      <td>260162660.0</td>\n",
       "      <td>2019-04-24 16:29:30</td>\n",
       "      <td>5.0</td>\n",
       "      <td>0.0</td>\n",
       "    </tr>\n",
       "    <tr>\n",
       "      <th>1035</th>\n",
       "      <td>260162660.0</td>\n",
       "      <td>2019-04-23 13:35:54</td>\n",
       "      <td>3.0</td>\n",
       "      <td>0.0</td>\n",
       "    </tr>\n",
       "    <tr>\n",
       "      <th>1036</th>\n",
       "      <td>260162660.0</td>\n",
       "      <td>2019-04-18 19:50:19</td>\n",
       "      <td>0.0</td>\n",
       "      <td>0.0</td>\n",
       "    </tr>\n",
       "    <tr>\n",
       "      <th>1037</th>\n",
       "      <td>260162660.0</td>\n",
       "      <td>2019-04-14 21:31:44</td>\n",
       "      <td>3.0</td>\n",
       "      <td>0.0</td>\n",
       "    </tr>\n",
       "    <tr>\n",
       "      <th>1038</th>\n",
       "      <td>260162660.0</td>\n",
       "      <td>2019-03-26 07:00:55</td>\n",
       "      <td>2.0</td>\n",
       "      <td>1.0</td>\n",
       "    </tr>\n",
       "    <tr>\n",
       "      <th>1039</th>\n",
       "      <td>260162660.0</td>\n",
       "      <td>2019-02-14 12:34:01</td>\n",
       "      <td>3.0</td>\n",
       "      <td>0.0</td>\n",
       "    </tr>\n",
       "    <tr>\n",
       "      <th>1040</th>\n",
       "      <td>260162660.0</td>\n",
       "      <td>2019-02-06 18:31:35</td>\n",
       "      <td>0.0</td>\n",
       "      <td>0.0</td>\n",
       "    </tr>\n",
       "    <tr>\n",
       "      <th>1041</th>\n",
       "      <td>260162660.0</td>\n",
       "      <td>2019-01-12 21:15:57</td>\n",
       "      <td>5.0</td>\n",
       "      <td>0.0</td>\n",
       "    </tr>\n",
       "    <tr>\n",
       "      <th>1042</th>\n",
       "      <td>260162660.0</td>\n",
       "      <td>2018-11-25 17:21:45</td>\n",
       "      <td>5.0</td>\n",
       "      <td>0.0</td>\n",
       "    </tr>\n",
       "    <tr>\n",
       "      <th>1043</th>\n",
       "      <td>260162660.0</td>\n",
       "      <td>2018-07-29 00:00:08</td>\n",
       "      <td>3.0</td>\n",
       "      <td>2.0</td>\n",
       "    </tr>\n",
       "    <tr>\n",
       "      <th>1044</th>\n",
       "      <td>260162660.0</td>\n",
       "      <td>2018-07-12 13:04:12</td>\n",
       "      <td>9.0</td>\n",
       "      <td>1.0</td>\n",
       "    </tr>\n",
       "    <tr>\n",
       "      <th>1045</th>\n",
       "      <td>260162660.0</td>\n",
       "      <td>2018-04-17 03:25:24</td>\n",
       "      <td>20.0</td>\n",
       "      <td>2.0</td>\n",
       "    </tr>\n",
       "    <tr>\n",
       "      <th>8697854</th>\n",
       "      <td>260162660.0</td>\n",
       "      <td>2015-10-02 19:28:08</td>\n",
       "      <td>5.0</td>\n",
       "      <td>1.0</td>\n",
       "    </tr>\n",
       "    <tr>\n",
       "      <th>8899492</th>\n",
       "      <td>260162660.0</td>\n",
       "      <td>2015-08-28 16:31:12</td>\n",
       "      <td>6.0</td>\n",
       "      <td>2.0</td>\n",
       "    </tr>\n",
       "    <tr>\n",
       "      <th>8899493</th>\n",
       "      <td>260162660.0</td>\n",
       "      <td>2015-08-28 15:38:15</td>\n",
       "      <td>7.0</td>\n",
       "      <td>1.0</td>\n",
       "    </tr>\n",
       "    <tr>\n",
       "      <th>8899494</th>\n",
       "      <td>260162660.0</td>\n",
       "      <td>2015-08-06 16:54:10</td>\n",
       "      <td>2.0</td>\n",
       "      <td>0.0</td>\n",
       "    </tr>\n",
       "    <tr>\n",
       "      <th>8899498</th>\n",
       "      <td>260162660.0</td>\n",
       "      <td>2015-02-27 18:43:02</td>\n",
       "      <td>7.0</td>\n",
       "      <td>0.0</td>\n",
       "    </tr>\n",
       "    <tr>\n",
       "      <th>42509625</th>\n",
       "      <td>260162660.0</td>\n",
       "      <td>2019-04-30 02:13:50</td>\n",
       "      <td>1.0</td>\n",
       "      <td>3.0</td>\n",
       "    </tr>\n",
       "    <tr>\n",
       "      <th>42509669</th>\n",
       "      <td>260162660.0</td>\n",
       "      <td>2019-02-14 13:36:42</td>\n",
       "      <td>1.0</td>\n",
       "      <td>0.0</td>\n",
       "    </tr>\n",
       "    <tr>\n",
       "      <th>42509670</th>\n",
       "      <td>260162660.0</td>\n",
       "      <td>2019-02-09 16:54:14</td>\n",
       "      <td>0.0</td>\n",
       "      <td>0.0</td>\n",
       "    </tr>\n",
       "    <tr>\n",
       "      <th>42509672</th>\n",
       "      <td>260162660.0</td>\n",
       "      <td>2019-02-05 20:24:36</td>\n",
       "      <td>1.0</td>\n",
       "      <td>0.0</td>\n",
       "    </tr>\n",
       "    <tr>\n",
       "      <th>42509675</th>\n",
       "      <td>260162660.0</td>\n",
       "      <td>2019-02-01 00:51:40</td>\n",
       "      <td>2.0</td>\n",
       "      <td>1.0</td>\n",
       "    </tr>\n",
       "    <tr>\n",
       "      <th>42509676</th>\n",
       "      <td>260162660.0</td>\n",
       "      <td>2019-02-01 00:48:14</td>\n",
       "      <td>6.0</td>\n",
       "      <td>1.0</td>\n",
       "    </tr>\n",
       "    <tr>\n",
       "      <th>42509677</th>\n",
       "      <td>260162660.0</td>\n",
       "      <td>2019-02-01 00:47:17</td>\n",
       "      <td>2.0</td>\n",
       "      <td>0.0</td>\n",
       "    </tr>\n",
       "    <tr>\n",
       "      <th>42509678</th>\n",
       "      <td>260162660.0</td>\n",
       "      <td>2019-01-31 01:20:52</td>\n",
       "      <td>1.0</td>\n",
       "      <td>0.0</td>\n",
       "    </tr>\n",
       "    <tr>\n",
       "      <th>42509680</th>\n",
       "      <td>260162660.0</td>\n",
       "      <td>2019-01-23 00:57:45</td>\n",
       "      <td>8.0</td>\n",
       "      <td>1.0</td>\n",
       "    </tr>\n",
       "  </tbody>\n",
       "</table>\n",
       "</div>"
      ],
      "text/plain": [
       "           profile_id                 cts  numbr_likes  number_comments\n",
       "980       260162660.0 2018-03-11 14:48:58         18.0              0.0\n",
       "981       260162660.0 2019-05-24 09:04:47          1.0              0.0\n",
       "982       260162660.0 2019-05-18 20:30:53         11.0              0.0\n",
       "983       260162660.0 2019-05-18 02:05:56         14.0              2.0\n",
       "984       260162660.0 2019-05-16 14:41:08          4.0              0.0\n",
       "985       260162660.0 2019-05-16 04:09:50          4.0              0.0\n",
       "986       260162660.0 2019-05-15 13:54:26         31.0              1.0\n",
       "987       260162660.0 2019-05-04 01:45:16         10.0              0.0\n",
       "988       260162660.0 2019-04-30 05:56:05          0.0              0.0\n",
       "989       260162660.0 2019-03-29 01:34:28         11.0              2.0\n",
       "990       260162660.0 2019-02-07 16:52:24         19.0              1.0\n",
       "991       260162660.0 2018-03-28 21:57:12         12.0              3.0\n",
       "1034      260162660.0 2019-04-24 16:29:30          5.0              0.0\n",
       "1035      260162660.0 2019-04-23 13:35:54          3.0              0.0\n",
       "1036      260162660.0 2019-04-18 19:50:19          0.0              0.0\n",
       "1037      260162660.0 2019-04-14 21:31:44          3.0              0.0\n",
       "1038      260162660.0 2019-03-26 07:00:55          2.0              1.0\n",
       "1039      260162660.0 2019-02-14 12:34:01          3.0              0.0\n",
       "1040      260162660.0 2019-02-06 18:31:35          0.0              0.0\n",
       "1041      260162660.0 2019-01-12 21:15:57          5.0              0.0\n",
       "1042      260162660.0 2018-11-25 17:21:45          5.0              0.0\n",
       "1043      260162660.0 2018-07-29 00:00:08          3.0              2.0\n",
       "1044      260162660.0 2018-07-12 13:04:12          9.0              1.0\n",
       "1045      260162660.0 2018-04-17 03:25:24         20.0              2.0\n",
       "8697854   260162660.0 2015-10-02 19:28:08          5.0              1.0\n",
       "8899492   260162660.0 2015-08-28 16:31:12          6.0              2.0\n",
       "8899493   260162660.0 2015-08-28 15:38:15          7.0              1.0\n",
       "8899494   260162660.0 2015-08-06 16:54:10          2.0              0.0\n",
       "8899498   260162660.0 2015-02-27 18:43:02          7.0              0.0\n",
       "42509625  260162660.0 2019-04-30 02:13:50          1.0              3.0\n",
       "42509669  260162660.0 2019-02-14 13:36:42          1.0              0.0\n",
       "42509670  260162660.0 2019-02-09 16:54:14          0.0              0.0\n",
       "42509672  260162660.0 2019-02-05 20:24:36          1.0              0.0\n",
       "42509675  260162660.0 2019-02-01 00:51:40          2.0              1.0\n",
       "42509676  260162660.0 2019-02-01 00:48:14          6.0              1.0\n",
       "42509677  260162660.0 2019-02-01 00:47:17          2.0              0.0\n",
       "42509678  260162660.0 2019-01-31 01:20:52          1.0              0.0\n",
       "42509680  260162660.0 2019-01-23 00:57:45          8.0              1.0"
      ]
     },
     "execution_count": 10,
     "metadata": {},
     "output_type": "execute_result"
    }
   ],
   "source": [
    "get_posts_by_id(260162660)"
   ]
  },
  {
   "cell_type": "markdown",
   "id": "5c1a27a0",
   "metadata": {},
   "source": [
    "## 4.2 Write another function that, given an input n (an integer), will return the posts that belong to the n top posted profiles (top n profiles that have posted the highest number of posts) that their data is available in the profile.csv using the previously written function.\n"
   ]
  },
  {
   "cell_type": "code",
   "execution_count": 12,
   "id": "ca322c94",
   "metadata": {},
   "outputs": [],
   "source": [
    "def posts_in_n_top (n):\n",
    "    df_profiles.groupby([\"profile_id\"], dropna=True)['n_posts'].sum()\n",
    "    top_profiles = df_profiles.sort_values(by='n_posts', ascending= False).head(n)\n",
    "    fil = top_profiles['profile_id']\n",
    "    return df_posts_4[df_posts_4['profile_id'].isin(fil)]"
   ]
  },
  {
   "cell_type": "code",
   "execution_count": 13,
   "id": "d0143065",
   "metadata": {},
   "outputs": [
    {
     "data": {
      "text/html": [
       "<div>\n",
       "<style scoped>\n",
       "    .dataframe tbody tr th:only-of-type {\n",
       "        vertical-align: middle;\n",
       "    }\n",
       "\n",
       "    .dataframe tbody tr th {\n",
       "        vertical-align: top;\n",
       "    }\n",
       "\n",
       "    .dataframe thead th {\n",
       "        text-align: right;\n",
       "    }\n",
       "</style>\n",
       "<table border=\"1\" class=\"dataframe\">\n",
       "  <thead>\n",
       "    <tr style=\"text-align: right;\">\n",
       "      <th></th>\n",
       "      <th>profile_id</th>\n",
       "      <th>cts</th>\n",
       "      <th>numbr_likes</th>\n",
       "      <th>number_comments</th>\n",
       "    </tr>\n",
       "  </thead>\n",
       "  <tbody>\n",
       "    <tr>\n",
       "      <th>153115</th>\n",
       "      <td>1.701679e+09</td>\n",
       "      <td>2019-05-21 06:31:43</td>\n",
       "      <td>0.0</td>\n",
       "      <td>0.0</td>\n",
       "    </tr>\n",
       "    <tr>\n",
       "      <th>233055</th>\n",
       "      <td>1.701679e+09</td>\n",
       "      <td>2019-05-28 11:36:35</td>\n",
       "      <td>4.0</td>\n",
       "      <td>0.0</td>\n",
       "    </tr>\n",
       "    <tr>\n",
       "      <th>233067</th>\n",
       "      <td>1.607309e+09</td>\n",
       "      <td>2019-05-28 11:36:28</td>\n",
       "      <td>1.0</td>\n",
       "      <td>0.0</td>\n",
       "    </tr>\n",
       "    <tr>\n",
       "      <th>241969</th>\n",
       "      <td>1.701679e+09</td>\n",
       "      <td>2019-05-21 05:27:11</td>\n",
       "      <td>2.0</td>\n",
       "      <td>0.0</td>\n",
       "    </tr>\n",
       "    <tr>\n",
       "      <th>241975</th>\n",
       "      <td>1.701679e+09</td>\n",
       "      <td>2019-05-18 12:35:53</td>\n",
       "      <td>0.0</td>\n",
       "      <td>0.0</td>\n",
       "    </tr>\n",
       "    <tr>\n",
       "      <th>...</th>\n",
       "      <td>...</td>\n",
       "      <td>...</td>\n",
       "      <td>...</td>\n",
       "      <td>...</td>\n",
       "    </tr>\n",
       "    <tr>\n",
       "      <th>42154726</th>\n",
       "      <td>1.603890e+09</td>\n",
       "      <td>2019-05-21 08:59:01</td>\n",
       "      <td>36.0</td>\n",
       "      <td>0.0</td>\n",
       "    </tr>\n",
       "    <tr>\n",
       "      <th>42240454</th>\n",
       "      <td>1.603890e+09</td>\n",
       "      <td>2019-04-23 06:55:01</td>\n",
       "      <td>4.0</td>\n",
       "      <td>0.0</td>\n",
       "    </tr>\n",
       "    <tr>\n",
       "      <th>42357392</th>\n",
       "      <td>1.701679e+09</td>\n",
       "      <td>2019-05-22 08:54:51</td>\n",
       "      <td>1.0</td>\n",
       "      <td>0.0</td>\n",
       "    </tr>\n",
       "    <tr>\n",
       "      <th>42518438</th>\n",
       "      <td>1.701679e+09</td>\n",
       "      <td>2019-04-07 17:45:34</td>\n",
       "      <td>0.0</td>\n",
       "      <td>0.0</td>\n",
       "    </tr>\n",
       "    <tr>\n",
       "      <th>42518439</th>\n",
       "      <td>1.607309e+09</td>\n",
       "      <td>2019-04-07 17:45:34</td>\n",
       "      <td>0.0</td>\n",
       "      <td>0.0</td>\n",
       "    </tr>\n",
       "  </tbody>\n",
       "</table>\n",
       "<p>432 rows × 4 columns</p>\n",
       "</div>"
      ],
      "text/plain": [
       "            profile_id                 cts  numbr_likes  number_comments\n",
       "153115    1.701679e+09 2019-05-21 06:31:43          0.0              0.0\n",
       "233055    1.701679e+09 2019-05-28 11:36:35          4.0              0.0\n",
       "233067    1.607309e+09 2019-05-28 11:36:28          1.0              0.0\n",
       "241969    1.701679e+09 2019-05-21 05:27:11          2.0              0.0\n",
       "241975    1.701679e+09 2019-05-18 12:35:53          0.0              0.0\n",
       "...                ...                 ...          ...              ...\n",
       "42154726  1.603890e+09 2019-05-21 08:59:01         36.0              0.0\n",
       "42240454  1.603890e+09 2019-04-23 06:55:01          4.0              0.0\n",
       "42357392  1.701679e+09 2019-05-22 08:54:51          1.0              0.0\n",
       "42518438  1.701679e+09 2019-04-07 17:45:34          0.0              0.0\n",
       "42518439  1.607309e+09 2019-04-07 17:45:34          0.0              0.0\n",
       "\n",
       "[432 rows x 4 columns]"
      ]
     },
     "execution_count": 13,
     "metadata": {},
     "output_type": "execute_result"
    }
   ],
   "source": [
    "posts_in_n_top(11)"
   ]
  },
  {
   "cell_type": "markdown",
   "id": "2043e644",
   "metadata": {},
   "source": [
    "## 4.3 What is the average number of \"likes\" and comments of the top 10 profiles with the highest number of posts which their information is available in profile.csv?\n"
   ]
  },
  {
   "cell_type": "code",
   "execution_count": 14,
   "id": "363a405f",
   "metadata": {},
   "outputs": [],
   "source": [
    "def avg_likes_comments_top_ten():\n",
    "    top_ten =  posts_in_n_top(11)\n",
    "    return top_ten.groupby(['profile_id'], dropna=True).mean()"
   ]
  },
  {
   "cell_type": "code",
   "execution_count": 15,
   "id": "175c3578",
   "metadata": {},
   "outputs": [
    {
     "data": {
      "text/html": [
       "<div>\n",
       "<style scoped>\n",
       "    .dataframe tbody tr th:only-of-type {\n",
       "        vertical-align: middle;\n",
       "    }\n",
       "\n",
       "    .dataframe tbody tr th {\n",
       "        vertical-align: top;\n",
       "    }\n",
       "\n",
       "    .dataframe thead th {\n",
       "        text-align: right;\n",
       "    }\n",
       "</style>\n",
       "<table border=\"1\" class=\"dataframe\">\n",
       "  <thead>\n",
       "    <tr style=\"text-align: right;\">\n",
       "      <th></th>\n",
       "      <th>numbr_likes</th>\n",
       "      <th>number_comments</th>\n",
       "    </tr>\n",
       "    <tr>\n",
       "      <th>profile_id</th>\n",
       "      <th></th>\n",
       "      <th></th>\n",
       "    </tr>\n",
       "  </thead>\n",
       "  <tbody>\n",
       "    <tr>\n",
       "      <th>9.813508e+06</th>\n",
       "      <td>0.296296</td>\n",
       "      <td>0.000000</td>\n",
       "    </tr>\n",
       "    <tr>\n",
       "      <th>1.996648e+08</th>\n",
       "      <td>7.666667</td>\n",
       "      <td>0.000000</td>\n",
       "    </tr>\n",
       "    <tr>\n",
       "      <th>2.181730e+08</th>\n",
       "      <td>0.400000</td>\n",
       "      <td>0.040000</td>\n",
       "    </tr>\n",
       "    <tr>\n",
       "      <th>2.855497e+08</th>\n",
       "      <td>3.921875</td>\n",
       "      <td>0.000000</td>\n",
       "    </tr>\n",
       "    <tr>\n",
       "      <th>1.087614e+09</th>\n",
       "      <td>2.026316</td>\n",
       "      <td>0.184211</td>\n",
       "    </tr>\n",
       "    <tr>\n",
       "      <th>1.273455e+09</th>\n",
       "      <td>2.960000</td>\n",
       "      <td>0.040000</td>\n",
       "    </tr>\n",
       "    <tr>\n",
       "      <th>1.603890e+09</th>\n",
       "      <td>6.477612</td>\n",
       "      <td>0.044776</td>\n",
       "    </tr>\n",
       "    <tr>\n",
       "      <th>1.607309e+09</th>\n",
       "      <td>1.540541</td>\n",
       "      <td>0.000000</td>\n",
       "    </tr>\n",
       "    <tr>\n",
       "      <th>1.701679e+09</th>\n",
       "      <td>1.447368</td>\n",
       "      <td>0.000000</td>\n",
       "    </tr>\n",
       "    <tr>\n",
       "      <th>8.563367e+09</th>\n",
       "      <td>0.000000</td>\n",
       "      <td>0.000000</td>\n",
       "    </tr>\n",
       "  </tbody>\n",
       "</table>\n",
       "</div>"
      ],
      "text/plain": [
       "              numbr_likes  number_comments\n",
       "profile_id                                \n",
       "9.813508e+06     0.296296         0.000000\n",
       "1.996648e+08     7.666667         0.000000\n",
       "2.181730e+08     0.400000         0.040000\n",
       "2.855497e+08     3.921875         0.000000\n",
       "1.087614e+09     2.026316         0.184211\n",
       "1.273455e+09     2.960000         0.040000\n",
       "1.603890e+09     6.477612         0.044776\n",
       "1.607309e+09     1.540541         0.000000\n",
       "1.701679e+09     1.447368         0.000000\n",
       "8.563367e+09     0.000000         0.000000"
      ]
     },
     "execution_count": 15,
     "metadata": {},
     "output_type": "execute_result"
    }
   ],
   "source": [
    "avg_likes_comments_top_ten()"
   ]
  },
  {
   "cell_type": "markdown",
   "id": "37a38149",
   "metadata": {},
   "source": [
    "## 4.4 Plot the number of posts that these top 10 profiles have sent on Instagram in the given interval in question RQ3. Interpret the resulting chart.\n"
   ]
  },
  {
   "cell_type": "code",
   "execution_count": 21,
   "id": "a40bea0d",
   "metadata": {},
   "outputs": [
    {
     "ename": "TypeError",
     "evalue": "'DataFrame' object is not callable",
     "output_type": "error",
     "traceback": [
      "\u001b[1;31m---------------------------------------------------------------------------\u001b[0m",
      "\u001b[1;31mTypeError\u001b[0m                                 Traceback (most recent call last)",
      "Input \u001b[1;32mIn [21]\u001b[0m, in \u001b[0;36m<cell line: 1>\u001b[1;34m()\u001b[0m\n\u001b[1;32m----> 1\u001b[0m posts_in_n_top \u001b[38;5;241m=\u001b[39m \u001b[43mposts_in_n_top\u001b[49m\u001b[43m(\u001b[49m\u001b[38;5;241;43m11\u001b[39;49m\u001b[43m)\u001b[49m\n\u001b[0;32m      3\u001b[0m posts_in_n_top[\u001b[38;5;124m'\u001b[39m\u001b[38;5;124mtimes\u001b[39m\u001b[38;5;124m'\u001b[39m] \u001b[38;5;241m=\u001b[39m pd\u001b[38;5;241m.\u001b[39mto_datetime(posts_in_n_top[\u001b[38;5;124m'\u001b[39m\u001b[38;5;124mcts\u001b[39m\u001b[38;5;124m'\u001b[39m])\u001b[38;5;241m.\u001b[39mdt\u001b[38;5;241m.\u001b[39mstrftime(\u001b[38;5;124m'\u001b[39m\u001b[38;5;124m%\u001b[39m\u001b[38;5;124mH:\u001b[39m\u001b[38;5;124m%\u001b[39m\u001b[38;5;124mM:\u001b[39m\u001b[38;5;124m%\u001b[39m\u001b[38;5;124mS\u001b[39m\u001b[38;5;124m'\u001b[39m)\n\u001b[0;32m      4\u001b[0m posts_top \u001b[38;5;241m=\u001b[39m posts_in_n_top\u001b[38;5;241m.\u001b[39mgroupby([\u001b[38;5;124m'\u001b[39m\u001b[38;5;124mtimes\u001b[39m\u001b[38;5;124m'\u001b[39m])[\u001b[38;5;124m'\u001b[39m\u001b[38;5;124mtimes\u001b[39m\u001b[38;5;124m'\u001b[39m]\u001b[38;5;241m.\u001b[39mcount()\u001b[38;5;241m.\u001b[39mreset_index(name\u001b[38;5;241m=\u001b[39m\u001b[38;5;124m'\u001b[39m\u001b[38;5;124mnumber_of_posts_submitted\u001b[39m\u001b[38;5;124m'\u001b[39m)\u001b[38;5;241m.\u001b[39msort_values([\u001b[38;5;124m'\u001b[39m\u001b[38;5;124mnumber_of_posts_submitted\u001b[39m\u001b[38;5;124m'\u001b[39m], ascending\u001b[38;5;241m=\u001b[39m\u001b[38;5;28;01mFalse\u001b[39;00m)\n",
      "\u001b[1;31mTypeError\u001b[0m: 'DataFrame' object is not callable"
     ]
    }
   ],
   "source": [
    "posts_in_n_top = posts_in_n_top(11)\n",
    "\n",
    "posts_in_n_top['times'] = pd.to_datetime(posts_in_n_top['cts']).dt.strftime('%H:%M:%S')\n",
    "posts_top = posts_in_n_top.groupby(['times'])['times'].count().reset_index(name='number_of_posts_submitted').sort_values(['number_of_posts_submitted'], ascending=False)\n",
    "\n",
    "plot_posts_time_intervals(times,posts_top)"
   ]
  },
  {
   "cell_type": "markdown",
   "id": "18e16e48",
   "metadata": {},
   "source": [
    "# [RQ5] The most influential users are the ones with the highest number of “followers\", you can now look more into their activity.\n",
    "\n"
   ]
  },
  {
   "cell_type": "markdown",
   "id": "cb24df84-bbe8-4d72-a005-33e4151d6771",
   "metadata": {},
   "source": [
    "## 5.1 Plot the top 10 most popular users in terms of followers and their number of posts.\n"
   ]
  },
  {
   "cell_type": "code",
   "execution_count": 54,
   "id": "7f71dcac",
   "metadata": {},
   "outputs": [
    {
     "name": "stdout",
     "output_type": "stream",
     "text": [
      "ok\n"
     ]
    }
   ],
   "source": [
    "df_posts = dt.fread(r\"instagram_posts.csv\", sep= '\\t', columns = {'profile_id', 'post_type', 'numbr_likes','number_comments'}).to_pandas()\n",
    "\n",
    "print('ok')"
   ]
  },
  {
   "cell_type": "code",
   "execution_count": 9,
   "id": "e881f0ba",
   "metadata": {},
   "outputs": [
    {
     "data": {
      "image/png": "[encoded data removed]",
      "text/plain": [
       "<Figure size 432x288 with 1 Axes>"
      ]
     },
     "metadata": {
      "needs_background": "light"
     },
     "output_type": "display_data"
    }
   ],
   "source": [
    "profiles = df_profiles.sort_values(by= 'followers', ascending = False) #sort dataset by followers\n",
    "top_10 = profiles.head(10) #get first 10 rows\n",
    "\n",
    "plt.ylabel('Posts')\n",
    "plt.xlabel('Profile')\n",
    "plt.bar(top_10.profile_name, top_10.n_posts) #plot\n",
    "plt.show()"
   ]
  },
  {
   "cell_type": "code",
   "execution_count": 10,
   "id": "4ee002b1",
   "metadata": {},
   "outputs": [
    {
     "data": {
      "image/png": "[encoded data removed]",
      "text/plain": [
       "<Figure size 432x288 with 1 Axes>"
      ]
     },
     "metadata": {
      "needs_background": "light"
     },
     "output_type": "display_data"
    }
   ],
   "source": [
    "plt.ylabel('Posts')\n",
    "plt.xlabel('Profile')\n",
    "\n",
    "plt.bar(top_10.profile_name, top_10.followers)\n",
    "plt.show()"
   ]
  },
  {
   "cell_type": "markdown",
   "id": "ff1d169a",
   "metadata": {},
   "source": [
    "## 5.2 Who is the most influential user?\n"
   ]
  },
  {
   "cell_type": "code",
   "execution_count": 11,
   "id": "ec1af675",
   "metadata": {},
   "outputs": [
    {
     "name": "stdout",
     "output_type": "stream",
     "text": [
      "id of the most popular profile is :2880218    25025320.0\n",
      "Name: profile_id, dtype: float64\n"
     ]
    }
   ],
   "source": [
    "top_post = df_profiles.sort_values(by='followers', ascending = False)\n",
    "\n",
    "print('id of the most popular profile is :' + str(top_post.head(1).profile_id)) "
   ]
  },
  {
   "cell_type": "markdown",
   "id": "19f401ca",
   "metadata": {},
   "source": [
    "## 5.3 Have they posted anything with tagged locations? Extract the most frequent areas on their posts and plot the number of times each city has been visited.\n"
   ]
  },
  {
   "cell_type": "code",
   "execution_count": 12,
   "id": "d9bafec1",
   "metadata": {},
   "outputs": [],
   "source": [
    " from collections import Counter"
   ]
  },
  {
   "cell_type": "code",
   "execution_count": 13,
   "id": "d1aeb5d2",
   "metadata": {},
   "outputs": [],
   "source": [
    "top_post=top_10.merge(df_posts, on='profile_id')\n",
    "\n",
    "top_post_locations =top_post.merge(df_locations, left_on='location_id',right_on='id')\n",
    "\n",
    "top_post_locations = top_post_locations[['profile_id', 'profile_name', 'location_id','name','post_type']]"
   ]
  },
  {
   "cell_type": "code",
   "execution_count": 14,
   "id": "5c639a20",
   "metadata": {},
   "outputs": [
    {
     "data": {
      "image/png": "[encoded data removed]",
      "text/plain": [
       "<Figure size 432x288 with 1 Axes>"
      ]
     },
     "metadata": {
      "needs_background": "light"
     },
     "output_type": "display_data"
    }
   ],
   "source": [
    "loc_count = top_post_locations.name.value_counts() #count location occurrencies\n",
    "\n",
    "loc_count_greater = loc_count[loc_count>1]  \n",
    "\n",
    "top_10_loc = Counter(top_post_locations.name).most_common()\n",
    "\n",
    "x=[]\n",
    "y=[]\n",
    "\n",
    "for i in range(10):\n",
    "    \n",
    "    x.append(top_10_loc[i][0])\n",
    "    y.append(int(top_10_loc[i][1]))\n",
    "\n",
    "\n",
    "plt.xlabel('Location')\n",
    "plt.ylabel('Visits')\n",
    "plt.bar(x=x, height=y)\n",
    "plt.show()"
   ]
  },
  {
   "cell_type": "markdown",
   "id": "85757b01",
   "metadata": {},
   "source": [
    "## 5.4 How many pictures-only posts have they published? How many reels? (only videos) and how many with both contents? Provide the number as percentages and interpret those figures"
   ]
  },
  {
   "cell_type": "code",
   "execution_count": 15,
   "id": "f71ccf43",
   "metadata": {},
   "outputs": [
    {
     "data": {
      "image/png": "[encoded data removed]",
      "text/plain": [
       "<Figure size 432x288 with 1 Axes>"
      ]
     },
     "metadata": {},
     "output_type": "display_data"
    }
   ],
   "source": [
    "y = np.array(df_posts.value_counts(['post_type']), int) #get count of post types\n",
    "\n",
    "x=['Photos','Videos','Both'] #x axis\n",
    "s=sum(y)\n",
    "\n",
    "\n",
    "sizes = y\n",
    "labels = x\n",
    "\n",
    "fig1, ax1 = plt.subplots()\n",
    "ax1.pie(sizes, labels=labels, autopct='%1.1f%%',\n",
    "        shadow=False, startangle=90)\n",
    "\n",
    "\n",
    "ax1.axis('equal')  # Equal aspect ratio ensures that pie is drawn as a circle.\n",
    "plt.show() #percentages are shown within the plot"
   ]
  },
  {
   "cell_type": "markdown",
   "id": "083686c0",
   "metadata": {},
   "source": [
    "## 5.5 How many \"likes\" and comments did posts with only pictures receive? How about videos and mixed posts? Try to provide the average numbers and confront them with their followers amount, explaining what you can say from that comparison.\n"
   ]
  },
  {
   "cell_type": "code",
   "execution_count": 55,
   "id": "fae2dbf2",
   "metadata": {},
   "outputs": [],
   "source": [
    "df_posts.dropna(inplace=True)"
   ]
  },
  {
   "cell_type": "code",
   "execution_count": 56,
   "id": "7e8ffd10",
   "metadata": {},
   "outputs": [],
   "source": [
    "#Al punto 4 aggiungere a df_posts la colonna post_type\n",
    "filter_list = top_10['profile_id']\n",
    "post_top_ten_profile = df_posts[df_posts['profile_id'].isin(filter_list)]\n",
    "posts_of_top_profiles = post_top_ten_profile[post_top_ten_profile['profile_id'].isin(top_10['profile_id'])]\n"
   ]
  },
  {
   "cell_type": "code",
   "execution_count": 57,
   "id": "7d162a53",
   "metadata": {},
   "outputs": [],
   "source": [
    "top_photos = posts_of_top_profiles[post_top_ten_profile.post_type == 1]\n",
    "top_videos = posts_of_top_profiles[post_top_ten_profile.post_type == 2]\n",
    "top_mixed = posts_of_top_profiles[post_top_ten_profile.post_type == 3]"
   ]
  },
  {
   "cell_type": "code",
   "execution_count": 58,
   "id": "29734036",
   "metadata": {},
   "outputs": [
    {
     "name": "stdout",
     "output_type": "stream",
     "text": [
      "Number of likes of posts with only pictures: 541294\n",
      "Number of comments of posts with only pictures: 3882\n",
      "Number of likes of posts with only videos: 266524\n",
      "Number of comments of posts with only videos: 2019\n",
      "Number of likes of posts mixed: nan\n",
      "Number of comments of posts mixed: nan\n",
      "average number of followers: 58749283\n"
     ]
    },
    {
     "name": "stderr",
     "output_type": "stream",
     "text": [
      "C:\\Users\\elisa\\anaconda3\\lib\\site-packages\\numpy\\lib\\function_base.py:380: RuntimeWarning: Mean of empty slice.\n",
      "  avg = a.mean(axis)\n",
      "C:\\Users\\elisa\\anaconda3\\lib\\site-packages\\numpy\\core\\_methods.py:189: RuntimeWarning: invalid value encountered in double_scalars\n",
      "  ret = ret.dtype.type(ret / rcount)\n"
     ]
    }
   ],
   "source": [
    "likes_photos = int(np.average(top_photos.numbr_likes))\n",
    "comments_photos = int(np.average(top_photos.number_comments))\n",
    "\n",
    "likes_videos = int(np.average(top_videos.numbr_likes))\n",
    "comments_videos = int(np.average(top_videos.number_comments))\n",
    "\n",
    "likes_mixed =np.average(top_mixed.numbr_likes)\n",
    "comments_mixed = np.average(top_mixed.number_comments)\n",
    "\n",
    "profile_followers = int(np.average(top_10.followers))\n",
    "\n",
    "print(\"Number of likes of posts with only pictures:\",likes_photos)\n",
    "print(\"Number of comments of posts with only pictures:\",comments_photos)\n",
    "\n",
    "print(\"Number of likes of posts with only videos:\",likes_videos)\n",
    "print(\"Number of comments of posts with only videos:\",comments_videos)\n",
    "\n",
    "print(\"Number of likes of posts mixed:\",likes_mixed)\n",
    "print(\"Number of comments of posts mixed:\",comments_mixed)\n",
    "\n",
    "print(\"average number of followers:\",profile_followers)"
   ]
  },
  {
   "cell_type": "markdown",
   "id": "3daa7931",
   "metadata": {},
   "source": [
    "# [RQ6] It's time to get information from the user posting effectiveness.\n",
    "\n"
   ]
  },
  {
   "cell_type": "markdown",
   "id": "72f256d8",
   "metadata": {},
   "source": [
    "## 6.1 What is the average time (days and minutes) a user lets pass before publishing another post? Plot the top 3 users that publish posts more frequently (calculate the average time that passes between posts), including their amount of followers and following. Provide insights from that chart.\n"
   ]
  },
  {
   "cell_type": "code",
   "execution_count": null,
   "id": "7a39f11b",
   "metadata": {},
   "outputs": [],
   "source": []
  },
  {
   "cell_type": "markdown",
   "id": "1559d143",
   "metadata": {},
   "source": [
    "## 6.2 Using the function you previously coded, plot the time intervals with the highest average number of “likes” and the ones with the highest average number of comments on posts.\n"
   ]
  },
  {
   "cell_type": "code",
   "execution_count": null,
   "id": "49d5d653",
   "metadata": {},
   "outputs": [],
   "source": []
  },
  {
   "cell_type": "markdown",
   "id": "988170b7",
   "metadata": {},
   "source": [
    "# [RQ7] Of course, calculating probabilities is a job that any Data Scientist must know. So let's compute some engaging figures.\n",
    "\n"
   ]
  },
  {
   "cell_type": "markdown",
   "id": "1058cbb0",
   "metadata": {},
   "source": [
    "## 7.1 What's the probability that a post receives more than 20% \"likes\" of the number of followers a user has?\n"
   ]
  },
  {
   "cell_type": "code",
   "execution_count": 59,
   "id": "4a4bc779",
   "metadata": {},
   "outputs": [],
   "source": [
    "df_posts = dt.fread(r\"instagram_posts.csv\", sep= '\\t', columns = {'profile_id', 'numbr_likes','post_id'}).to_pandas()"
   ]
  },
  {
   "cell_type": "code",
   "execution_count": 60,
   "id": "198475f1",
   "metadata": {},
   "outputs": [],
   "source": [
    "df_posts_na = df_posts.dropna(inplace=True)\n",
    "df_profiles_na = df_profiles.dropna(inplace=True)"
   ]
  },
  {
   "cell_type": "code",
   "execution_count": 61,
   "id": "5a08e700",
   "metadata": {},
   "outputs": [
    {
     "ename": "TypeError",
     "evalue": "Can only merge Series or DataFrame objects, a <class 'NoneType'> was passed",
     "output_type": "error",
     "traceback": [
      "\u001b[1;31m---------------------------------------------------------------------------\u001b[0m",
      "\u001b[1;31mTypeError\u001b[0m                                 Traceback (most recent call last)",
      "Input \u001b[1;32mIn [61]\u001b[0m, in \u001b[0;36m<cell line: 1>\u001b[1;34m()\u001b[0m\n\u001b[1;32m----> 1\u001b[0m profiles_and_posts\u001b[38;5;241m=\u001b[39m \u001b[43mpd\u001b[49m\u001b[38;5;241;43m.\u001b[39;49m\u001b[43mmerge\u001b[49m\u001b[43m(\u001b[49m\u001b[43mdf_posts_na\u001b[49m\u001b[43m,\u001b[49m\u001b[43mdf_profiles_na\u001b[49m\u001b[43m,\u001b[49m\u001b[43m \u001b[49m\u001b[43mon\u001b[49m\u001b[43m \u001b[49m\u001b[38;5;241;43m=\u001b[39;49m\u001b[43m \u001b[49m\u001b[38;5;124;43m'\u001b[39;49m\u001b[38;5;124;43mprofile_id\u001b[39;49m\u001b[38;5;124;43m'\u001b[39;49m\u001b[43m)\u001b[49m\n",
      "File \u001b[1;32m~\\anaconda3\\lib\\site-packages\\pandas\\core\\reshape\\merge.py:107\u001b[0m, in \u001b[0;36mmerge\u001b[1;34m(left, right, how, on, left_on, right_on, left_index, right_index, sort, suffixes, copy, indicator, validate)\u001b[0m\n\u001b[0;32m     90\u001b[0m \u001b[38;5;129m@Substitution\u001b[39m(\u001b[38;5;124m\"\u001b[39m\u001b[38;5;130;01m\\n\u001b[39;00m\u001b[38;5;124mleft : DataFrame or named Series\u001b[39m\u001b[38;5;124m\"\u001b[39m)\n\u001b[0;32m     91\u001b[0m \u001b[38;5;129m@Appender\u001b[39m(_merge_doc, indents\u001b[38;5;241m=\u001b[39m\u001b[38;5;241m0\u001b[39m)\n\u001b[0;32m     92\u001b[0m \u001b[38;5;28;01mdef\u001b[39;00m \u001b[38;5;21mmerge\u001b[39m(\n\u001b[1;32m   (...)\u001b[0m\n\u001b[0;32m    105\u001b[0m     validate: \u001b[38;5;28mstr\u001b[39m \u001b[38;5;241m|\u001b[39m \u001b[38;5;28;01mNone\u001b[39;00m \u001b[38;5;241m=\u001b[39m \u001b[38;5;28;01mNone\u001b[39;00m,\n\u001b[0;32m    106\u001b[0m ) \u001b[38;5;241m-\u001b[39m\u001b[38;5;241m>\u001b[39m DataFrame:\n\u001b[1;32m--> 107\u001b[0m     op \u001b[38;5;241m=\u001b[39m \u001b[43m_MergeOperation\u001b[49m\u001b[43m(\u001b[49m\n\u001b[0;32m    108\u001b[0m \u001b[43m        \u001b[49m\u001b[43mleft\u001b[49m\u001b[43m,\u001b[49m\n\u001b[0;32m    109\u001b[0m \u001b[43m        \u001b[49m\u001b[43mright\u001b[49m\u001b[43m,\u001b[49m\n\u001b[0;32m    110\u001b[0m \u001b[43m        \u001b[49m\u001b[43mhow\u001b[49m\u001b[38;5;241;43m=\u001b[39;49m\u001b[43mhow\u001b[49m\u001b[43m,\u001b[49m\n\u001b[0;32m    111\u001b[0m \u001b[43m        \u001b[49m\u001b[43mon\u001b[49m\u001b[38;5;241;43m=\u001b[39;49m\u001b[43mon\u001b[49m\u001b[43m,\u001b[49m\n\u001b[0;32m    112\u001b[0m \u001b[43m        \u001b[49m\u001b[43mleft_on\u001b[49m\u001b[38;5;241;43m=\u001b[39;49m\u001b[43mleft_on\u001b[49m\u001b[43m,\u001b[49m\n\u001b[0;32m    113\u001b[0m \u001b[43m        \u001b[49m\u001b[43mright_on\u001b[49m\u001b[38;5;241;43m=\u001b[39;49m\u001b[43mright_on\u001b[49m\u001b[43m,\u001b[49m\n\u001b[0;32m    114\u001b[0m \u001b[43m        \u001b[49m\u001b[43mleft_index\u001b[49m\u001b[38;5;241;43m=\u001b[39;49m\u001b[43mleft_index\u001b[49m\u001b[43m,\u001b[49m\n\u001b[0;32m    115\u001b[0m \u001b[43m        \u001b[49m\u001b[43mright_index\u001b[49m\u001b[38;5;241;43m=\u001b[39;49m\u001b[43mright_index\u001b[49m\u001b[43m,\u001b[49m\n\u001b[0;32m    116\u001b[0m \u001b[43m        \u001b[49m\u001b[43msort\u001b[49m\u001b[38;5;241;43m=\u001b[39;49m\u001b[43msort\u001b[49m\u001b[43m,\u001b[49m\n\u001b[0;32m    117\u001b[0m \u001b[43m        \u001b[49m\u001b[43msuffixes\u001b[49m\u001b[38;5;241;43m=\u001b[39;49m\u001b[43msuffixes\u001b[49m\u001b[43m,\u001b[49m\n\u001b[0;32m    118\u001b[0m \u001b[43m        \u001b[49m\u001b[43mcopy\u001b[49m\u001b[38;5;241;43m=\u001b[39;49m\u001b[43mcopy\u001b[49m\u001b[43m,\u001b[49m\n\u001b[0;32m    119\u001b[0m \u001b[43m        \u001b[49m\u001b[43mindicator\u001b[49m\u001b[38;5;241;43m=\u001b[39;49m\u001b[43mindicator\u001b[49m\u001b[43m,\u001b[49m\n\u001b[0;32m    120\u001b[0m \u001b[43m        \u001b[49m\u001b[43mvalidate\u001b[49m\u001b[38;5;241;43m=\u001b[39;49m\u001b[43mvalidate\u001b[49m\u001b[43m,\u001b[49m\n\u001b[0;32m    121\u001b[0m \u001b[43m    \u001b[49m\u001b[43m)\u001b[49m\n\u001b[0;32m    122\u001b[0m     \u001b[38;5;28;01mreturn\u001b[39;00m op\u001b[38;5;241m.\u001b[39mget_result()\n",
      "File \u001b[1;32m~\\anaconda3\\lib\\site-packages\\pandas\\core\\reshape\\merge.py:628\u001b[0m, in \u001b[0;36m_MergeOperation.__init__\u001b[1;34m(self, left, right, how, on, left_on, right_on, axis, left_index, right_index, sort, suffixes, copy, indicator, validate)\u001b[0m\n\u001b[0;32m    611\u001b[0m \u001b[38;5;28;01mdef\u001b[39;00m \u001b[38;5;21m__init__\u001b[39m(\n\u001b[0;32m    612\u001b[0m     \u001b[38;5;28mself\u001b[39m,\n\u001b[0;32m    613\u001b[0m     left: DataFrame \u001b[38;5;241m|\u001b[39m Series,\n\u001b[1;32m   (...)\u001b[0m\n\u001b[0;32m    626\u001b[0m     validate: \u001b[38;5;28mstr\u001b[39m \u001b[38;5;241m|\u001b[39m \u001b[38;5;28;01mNone\u001b[39;00m \u001b[38;5;241m=\u001b[39m \u001b[38;5;28;01mNone\u001b[39;00m,\n\u001b[0;32m    627\u001b[0m ):\n\u001b[1;32m--> 628\u001b[0m     _left \u001b[38;5;241m=\u001b[39m \u001b[43m_validate_operand\u001b[49m\u001b[43m(\u001b[49m\u001b[43mleft\u001b[49m\u001b[43m)\u001b[49m\n\u001b[0;32m    629\u001b[0m     _right \u001b[38;5;241m=\u001b[39m _validate_operand(right)\n\u001b[0;32m    630\u001b[0m     \u001b[38;5;28mself\u001b[39m\u001b[38;5;241m.\u001b[39mleft \u001b[38;5;241m=\u001b[39m \u001b[38;5;28mself\u001b[39m\u001b[38;5;241m.\u001b[39morig_left \u001b[38;5;241m=\u001b[39m _left\n",
      "File \u001b[1;32m~\\anaconda3\\lib\\site-packages\\pandas\\core\\reshape\\merge.py:2281\u001b[0m, in \u001b[0;36m_validate_operand\u001b[1;34m(obj)\u001b[0m\n\u001b[0;32m   2279\u001b[0m         \u001b[38;5;28;01mreturn\u001b[39;00m obj\u001b[38;5;241m.\u001b[39mto_frame()\n\u001b[0;32m   2280\u001b[0m \u001b[38;5;28;01melse\u001b[39;00m:\n\u001b[1;32m-> 2281\u001b[0m     \u001b[38;5;28;01mraise\u001b[39;00m \u001b[38;5;167;01mTypeError\u001b[39;00m(\n\u001b[0;32m   2282\u001b[0m         \u001b[38;5;124mf\u001b[39m\u001b[38;5;124m\"\u001b[39m\u001b[38;5;124mCan only merge Series or DataFrame objects, a \u001b[39m\u001b[38;5;132;01m{\u001b[39;00m\u001b[38;5;28mtype\u001b[39m(obj)\u001b[38;5;132;01m}\u001b[39;00m\u001b[38;5;124m was passed\u001b[39m\u001b[38;5;124m\"\u001b[39m\n\u001b[0;32m   2283\u001b[0m     )\n",
      "\u001b[1;31mTypeError\u001b[0m: Can only merge Series or DataFrame objects, a <class 'NoneType'> was passed"
     ]
    }
   ],
   "source": [
    "profiles_and_posts= pd.merge(df_posts_na,df_profiles_na, on = 'profile_id')\n",
    "df = df[df.followers != 0]\n",
    "yes_df = df[df.number_likes > (df.followers/5)]\n",
    "yes = len(yes_df)\n",
    "yes_df\n",
    "prob = yes/len(df)\n",
    "print(\"The probability that a post recives more than 20%...\", \"{0:.2%}\".format(prob))"
   ]
  },
  {
   "cell_type": "code",
   "execution_count": 86,
   "id": "4be5edfe",
   "metadata": {},
   "outputs": [
    {
     "ename": "MemoryError",
     "evalue": "Unable to allocate 625. GiB for an array with shape (83845221157,) and data type int64",
     "output_type": "error",
     "traceback": [
      "\u001b[1;31m---------------------------------------------------------------------------\u001b[0m",
      "\u001b[1;31mMemoryError\u001b[0m                               Traceback (most recent call last)",
      "Input \u001b[1;32mIn [86]\u001b[0m, in \u001b[0;36m<cell line: 2>\u001b[1;34m()\u001b[0m\n\u001b[0;32m      1\u001b[0m l \u001b[38;5;241m=\u001b[39m []\n\u001b[0;32m      2\u001b[0m \u001b[38;5;28;01mfor\u001b[39;00m i \u001b[38;5;129;01min\u001b[39;00m \u001b[38;5;28mrange\u001b[39m(\u001b[38;5;28mlen\u001b[39m(df_posts_7)):\n\u001b[1;32m----> 3\u001b[0m     \u001b[43mdf_posts_7\u001b[49m\u001b[38;5;241;43m.\u001b[39;49m\u001b[43mmerge\u001b[49m\u001b[43m(\u001b[49m\u001b[43mdf_profiles\u001b[49m\u001b[43m,\u001b[49m\u001b[43m \u001b[49m\u001b[43mon\u001b[49m\u001b[38;5;241;43m=\u001b[39;49m\u001b[43m \u001b[49m\u001b[38;5;124;43m\"\u001b[39;49m\u001b[38;5;124;43mprofile_id\u001b[39;49m\u001b[38;5;124;43m\"\u001b[39;49m\u001b[43m)\u001b[49m \n\u001b[0;32m      4\u001b[0m     prob \u001b[38;5;241m=\u001b[39m \u001b[38;5;28msum\u001b[39m(df_posts_7\u001b[38;5;241m.\u001b[39mloc[i,\u001b[38;5;124m\"\u001b[39m\u001b[38;5;124mnumbr_likes\u001b[39m\u001b[38;5;124m\"\u001b[39m] \u001b[38;5;241m>\u001b[39m\u001b[38;5;241m=\u001b[39m df_profiles\u001b[38;5;241m.\u001b[39mloc[i,\u001b[38;5;124m\"\u001b[39m\u001b[38;5;124mfollowers\u001b[39m\u001b[38;5;124m\"\u001b[39m]\u001b[38;5;241m*\u001b[39m\u001b[38;5;241m0.2\u001b[39m)\u001b[38;5;241m/\u001b[39m\u001b[38;5;28mlen\u001b[39m(df_profiles)\n\u001b[0;32m      5\u001b[0m     l\u001b[38;5;241m.\u001b[39mappend(prob)\n",
      "File \u001b[1;32m~\\anaconda3\\lib\\site-packages\\pandas\\core\\frame.py:9345\u001b[0m, in \u001b[0;36mDataFrame.merge\u001b[1;34m(self, right, how, on, left_on, right_on, left_index, right_index, sort, suffixes, copy, indicator, validate)\u001b[0m\n\u001b[0;32m   9326\u001b[0m \u001b[38;5;129m@Substitution\u001b[39m(\u001b[38;5;124m\"\u001b[39m\u001b[38;5;124m\"\u001b[39m)\n\u001b[0;32m   9327\u001b[0m \u001b[38;5;129m@Appender\u001b[39m(_merge_doc, indents\u001b[38;5;241m=\u001b[39m\u001b[38;5;241m2\u001b[39m)\n\u001b[0;32m   9328\u001b[0m \u001b[38;5;28;01mdef\u001b[39;00m \u001b[38;5;21mmerge\u001b[39m(\n\u001b[1;32m   (...)\u001b[0m\n\u001b[0;32m   9341\u001b[0m     validate: \u001b[38;5;28mstr\u001b[39m \u001b[38;5;241m|\u001b[39m \u001b[38;5;28;01mNone\u001b[39;00m \u001b[38;5;241m=\u001b[39m \u001b[38;5;28;01mNone\u001b[39;00m,\n\u001b[0;32m   9342\u001b[0m ) \u001b[38;5;241m-\u001b[39m\u001b[38;5;241m>\u001b[39m DataFrame:\n\u001b[0;32m   9343\u001b[0m     \u001b[38;5;28;01mfrom\u001b[39;00m \u001b[38;5;21;01mpandas\u001b[39;00m\u001b[38;5;21;01m.\u001b[39;00m\u001b[38;5;21;01mcore\u001b[39;00m\u001b[38;5;21;01m.\u001b[39;00m\u001b[38;5;21;01mreshape\u001b[39;00m\u001b[38;5;21;01m.\u001b[39;00m\u001b[38;5;21;01mmerge\u001b[39;00m \u001b[38;5;28;01mimport\u001b[39;00m merge\n\u001b[1;32m-> 9345\u001b[0m     \u001b[38;5;28;01mreturn\u001b[39;00m \u001b[43mmerge\u001b[49m\u001b[43m(\u001b[49m\n\u001b[0;32m   9346\u001b[0m \u001b[43m        \u001b[49m\u001b[38;5;28;43mself\u001b[39;49m\u001b[43m,\u001b[49m\n\u001b[0;32m   9347\u001b[0m \u001b[43m        \u001b[49m\u001b[43mright\u001b[49m\u001b[43m,\u001b[49m\n\u001b[0;32m   9348\u001b[0m \u001b[43m        \u001b[49m\u001b[43mhow\u001b[49m\u001b[38;5;241;43m=\u001b[39;49m\u001b[43mhow\u001b[49m\u001b[43m,\u001b[49m\n\u001b[0;32m   9349\u001b[0m \u001b[43m        \u001b[49m\u001b[43mon\u001b[49m\u001b[38;5;241;43m=\u001b[39;49m\u001b[43mon\u001b[49m\u001b[43m,\u001b[49m\n\u001b[0;32m   9350\u001b[0m \u001b[43m        \u001b[49m\u001b[43mleft_on\u001b[49m\u001b[38;5;241;43m=\u001b[39;49m\u001b[43mleft_on\u001b[49m\u001b[43m,\u001b[49m\n\u001b[0;32m   9351\u001b[0m \u001b[43m        \u001b[49m\u001b[43mright_on\u001b[49m\u001b[38;5;241;43m=\u001b[39;49m\u001b[43mright_on\u001b[49m\u001b[43m,\u001b[49m\n\u001b[0;32m   9352\u001b[0m \u001b[43m        \u001b[49m\u001b[43mleft_index\u001b[49m\u001b[38;5;241;43m=\u001b[39;49m\u001b[43mleft_index\u001b[49m\u001b[43m,\u001b[49m\n\u001b[0;32m   9353\u001b[0m \u001b[43m        \u001b[49m\u001b[43mright_index\u001b[49m\u001b[38;5;241;43m=\u001b[39;49m\u001b[43mright_index\u001b[49m\u001b[43m,\u001b[49m\n\u001b[0;32m   9354\u001b[0m \u001b[43m        \u001b[49m\u001b[43msort\u001b[49m\u001b[38;5;241;43m=\u001b[39;49m\u001b[43msort\u001b[49m\u001b[43m,\u001b[49m\n\u001b[0;32m   9355\u001b[0m \u001b[43m        \u001b[49m\u001b[43msuffixes\u001b[49m\u001b[38;5;241;43m=\u001b[39;49m\u001b[43msuffixes\u001b[49m\u001b[43m,\u001b[49m\n\u001b[0;32m   9356\u001b[0m \u001b[43m        \u001b[49m\u001b[43mcopy\u001b[49m\u001b[38;5;241;43m=\u001b[39;49m\u001b[43mcopy\u001b[49m\u001b[43m,\u001b[49m\n\u001b[0;32m   9357\u001b[0m \u001b[43m        \u001b[49m\u001b[43mindicator\u001b[49m\u001b[38;5;241;43m=\u001b[39;49m\u001b[43mindicator\u001b[49m\u001b[43m,\u001b[49m\n\u001b[0;32m   9358\u001b[0m \u001b[43m        \u001b[49m\u001b[43mvalidate\u001b[49m\u001b[38;5;241;43m=\u001b[39;49m\u001b[43mvalidate\u001b[49m\u001b[43m,\u001b[49m\n\u001b[0;32m   9359\u001b[0m \u001b[43m    \u001b[49m\u001b[43m)\u001b[49m\n",
      "File \u001b[1;32m~\\anaconda3\\lib\\site-packages\\pandas\\core\\reshape\\merge.py:122\u001b[0m, in \u001b[0;36mmerge\u001b[1;34m(left, right, how, on, left_on, right_on, left_index, right_index, sort, suffixes, copy, indicator, validate)\u001b[0m\n\u001b[0;32m     90\u001b[0m \u001b[38;5;129m@Substitution\u001b[39m(\u001b[38;5;124m\"\u001b[39m\u001b[38;5;130;01m\\n\u001b[39;00m\u001b[38;5;124mleft : DataFrame or named Series\u001b[39m\u001b[38;5;124m\"\u001b[39m)\n\u001b[0;32m     91\u001b[0m \u001b[38;5;129m@Appender\u001b[39m(_merge_doc, indents\u001b[38;5;241m=\u001b[39m\u001b[38;5;241m0\u001b[39m)\n\u001b[0;32m     92\u001b[0m \u001b[38;5;28;01mdef\u001b[39;00m \u001b[38;5;21mmerge\u001b[39m(\n\u001b[1;32m   (...)\u001b[0m\n\u001b[0;32m    105\u001b[0m     validate: \u001b[38;5;28mstr\u001b[39m \u001b[38;5;241m|\u001b[39m \u001b[38;5;28;01mNone\u001b[39;00m \u001b[38;5;241m=\u001b[39m \u001b[38;5;28;01mNone\u001b[39;00m,\n\u001b[0;32m    106\u001b[0m ) \u001b[38;5;241m-\u001b[39m\u001b[38;5;241m>\u001b[39m DataFrame:\n\u001b[0;32m    107\u001b[0m     op \u001b[38;5;241m=\u001b[39m _MergeOperation(\n\u001b[0;32m    108\u001b[0m         left,\n\u001b[0;32m    109\u001b[0m         right,\n\u001b[1;32m   (...)\u001b[0m\n\u001b[0;32m    120\u001b[0m         validate\u001b[38;5;241m=\u001b[39mvalidate,\n\u001b[0;32m    121\u001b[0m     )\n\u001b[1;32m--> 122\u001b[0m     \u001b[38;5;28;01mreturn\u001b[39;00m \u001b[43mop\u001b[49m\u001b[38;5;241;43m.\u001b[39;49m\u001b[43mget_result\u001b[49m\u001b[43m(\u001b[49m\u001b[43m)\u001b[49m\n",
      "File \u001b[1;32m~\\anaconda3\\lib\\site-packages\\pandas\\core\\reshape\\merge.py:716\u001b[0m, in \u001b[0;36m_MergeOperation.get_result\u001b[1;34m(self)\u001b[0m\n\u001b[0;32m    713\u001b[0m \u001b[38;5;28;01mif\u001b[39;00m \u001b[38;5;28mself\u001b[39m\u001b[38;5;241m.\u001b[39mindicator:\n\u001b[0;32m    714\u001b[0m     \u001b[38;5;28mself\u001b[39m\u001b[38;5;241m.\u001b[39mleft, \u001b[38;5;28mself\u001b[39m\u001b[38;5;241m.\u001b[39mright \u001b[38;5;241m=\u001b[39m \u001b[38;5;28mself\u001b[39m\u001b[38;5;241m.\u001b[39m_indicator_pre_merge(\u001b[38;5;28mself\u001b[39m\u001b[38;5;241m.\u001b[39mleft, \u001b[38;5;28mself\u001b[39m\u001b[38;5;241m.\u001b[39mright)\n\u001b[1;32m--> 716\u001b[0m join_index, left_indexer, right_indexer \u001b[38;5;241m=\u001b[39m \u001b[38;5;28;43mself\u001b[39;49m\u001b[38;5;241;43m.\u001b[39;49m\u001b[43m_get_join_info\u001b[49m\u001b[43m(\u001b[49m\u001b[43m)\u001b[49m\n\u001b[0;32m    718\u001b[0m llabels, rlabels \u001b[38;5;241m=\u001b[39m _items_overlap_with_suffix(\n\u001b[0;32m    719\u001b[0m     \u001b[38;5;28mself\u001b[39m\u001b[38;5;241m.\u001b[39mleft\u001b[38;5;241m.\u001b[39m_info_axis, \u001b[38;5;28mself\u001b[39m\u001b[38;5;241m.\u001b[39mright\u001b[38;5;241m.\u001b[39m_info_axis, \u001b[38;5;28mself\u001b[39m\u001b[38;5;241m.\u001b[39msuffixes\n\u001b[0;32m    720\u001b[0m )\n\u001b[0;32m    722\u001b[0m lindexers \u001b[38;5;241m=\u001b[39m {\u001b[38;5;241m1\u001b[39m: left_indexer} \u001b[38;5;28;01mif\u001b[39;00m left_indexer \u001b[38;5;129;01mis\u001b[39;00m \u001b[38;5;129;01mnot\u001b[39;00m \u001b[38;5;28;01mNone\u001b[39;00m \u001b[38;5;28;01melse\u001b[39;00m {}\n",
      "File \u001b[1;32m~\\anaconda3\\lib\\site-packages\\pandas\\core\\reshape\\merge.py:967\u001b[0m, in \u001b[0;36m_MergeOperation._get_join_info\u001b[1;34m(self)\u001b[0m\n\u001b[0;32m    963\u001b[0m     join_index, right_indexer, left_indexer \u001b[38;5;241m=\u001b[39m _left_join_on_index(\n\u001b[0;32m    964\u001b[0m         right_ax, left_ax, \u001b[38;5;28mself\u001b[39m\u001b[38;5;241m.\u001b[39mright_join_keys, sort\u001b[38;5;241m=\u001b[39m\u001b[38;5;28mself\u001b[39m\u001b[38;5;241m.\u001b[39msort\n\u001b[0;32m    965\u001b[0m     )\n\u001b[0;32m    966\u001b[0m \u001b[38;5;28;01melse\u001b[39;00m:\n\u001b[1;32m--> 967\u001b[0m     (left_indexer, right_indexer) \u001b[38;5;241m=\u001b[39m \u001b[38;5;28;43mself\u001b[39;49m\u001b[38;5;241;43m.\u001b[39;49m\u001b[43m_get_join_indexers\u001b[49m\u001b[43m(\u001b[49m\u001b[43m)\u001b[49m\n\u001b[0;32m    969\u001b[0m     \u001b[38;5;28;01mif\u001b[39;00m \u001b[38;5;28mself\u001b[39m\u001b[38;5;241m.\u001b[39mright_index:\n\u001b[0;32m    970\u001b[0m         \u001b[38;5;28;01mif\u001b[39;00m \u001b[38;5;28mlen\u001b[39m(\u001b[38;5;28mself\u001b[39m\u001b[38;5;241m.\u001b[39mleft) \u001b[38;5;241m>\u001b[39m \u001b[38;5;241m0\u001b[39m:\n",
      "File \u001b[1;32m~\\anaconda3\\lib\\site-packages\\pandas\\core\\reshape\\merge.py:941\u001b[0m, in \u001b[0;36m_MergeOperation._get_join_indexers\u001b[1;34m(self)\u001b[0m\n\u001b[0;32m    939\u001b[0m \u001b[38;5;28;01mdef\u001b[39;00m \u001b[38;5;21m_get_join_indexers\u001b[39m(\u001b[38;5;28mself\u001b[39m) \u001b[38;5;241m-\u001b[39m\u001b[38;5;241m>\u001b[39m \u001b[38;5;28mtuple\u001b[39m[npt\u001b[38;5;241m.\u001b[39mNDArray[np\u001b[38;5;241m.\u001b[39mintp], npt\u001b[38;5;241m.\u001b[39mNDArray[np\u001b[38;5;241m.\u001b[39mintp]]:\n\u001b[0;32m    940\u001b[0m     \u001b[38;5;124;03m\"\"\"return the join indexers\"\"\"\u001b[39;00m\n\u001b[1;32m--> 941\u001b[0m     \u001b[38;5;28;01mreturn\u001b[39;00m \u001b[43mget_join_indexers\u001b[49m\u001b[43m(\u001b[49m\n\u001b[0;32m    942\u001b[0m \u001b[43m        \u001b[49m\u001b[38;5;28;43mself\u001b[39;49m\u001b[38;5;241;43m.\u001b[39;49m\u001b[43mleft_join_keys\u001b[49m\u001b[43m,\u001b[49m\u001b[43m \u001b[49m\u001b[38;5;28;43mself\u001b[39;49m\u001b[38;5;241;43m.\u001b[39;49m\u001b[43mright_join_keys\u001b[49m\u001b[43m,\u001b[49m\u001b[43m \u001b[49m\u001b[43msort\u001b[49m\u001b[38;5;241;43m=\u001b[39;49m\u001b[38;5;28;43mself\u001b[39;49m\u001b[38;5;241;43m.\u001b[39;49m\u001b[43msort\u001b[49m\u001b[43m,\u001b[49m\u001b[43m \u001b[49m\u001b[43mhow\u001b[49m\u001b[38;5;241;43m=\u001b[39;49m\u001b[38;5;28;43mself\u001b[39;49m\u001b[38;5;241;43m.\u001b[39;49m\u001b[43mhow\u001b[49m\n\u001b[0;32m    943\u001b[0m \u001b[43m    \u001b[49m\u001b[43m)\u001b[49m\n",
      "File \u001b[1;32m~\\anaconda3\\lib\\site-packages\\pandas\\core\\reshape\\merge.py:1509\u001b[0m, in \u001b[0;36mget_join_indexers\u001b[1;34m(left_keys, right_keys, sort, how, **kwargs)\u001b[0m\n\u001b[0;32m   1499\u001b[0m join_func \u001b[38;5;241m=\u001b[39m {\n\u001b[0;32m   1500\u001b[0m     \u001b[38;5;124m\"\u001b[39m\u001b[38;5;124minner\u001b[39m\u001b[38;5;124m\"\u001b[39m: libjoin\u001b[38;5;241m.\u001b[39minner_join,\n\u001b[0;32m   1501\u001b[0m     \u001b[38;5;124m\"\u001b[39m\u001b[38;5;124mleft\u001b[39m\u001b[38;5;124m\"\u001b[39m: libjoin\u001b[38;5;241m.\u001b[39mleft_outer_join,\n\u001b[1;32m   (...)\u001b[0m\n\u001b[0;32m   1505\u001b[0m     \u001b[38;5;124m\"\u001b[39m\u001b[38;5;124mouter\u001b[39m\u001b[38;5;124m\"\u001b[39m: libjoin\u001b[38;5;241m.\u001b[39mfull_outer_join,\n\u001b[0;32m   1506\u001b[0m }[how]\n\u001b[0;32m   1508\u001b[0m \u001b[38;5;66;03m# error: Cannot call function of unknown type\u001b[39;00m\n\u001b[1;32m-> 1509\u001b[0m \u001b[38;5;28;01mreturn\u001b[39;00m join_func(lkey, rkey, count, \u001b[38;5;241m*\u001b[39m\u001b[38;5;241m*\u001b[39mkwargs)\n",
      "File \u001b[1;32m~\\anaconda3\\lib\\site-packages\\pandas\\_libs\\join.pyx:48\u001b[0m, in \u001b[0;36mpandas._libs.join.inner_join\u001b[1;34m()\u001b[0m\n",
      "\u001b[1;31mMemoryError\u001b[0m: Unable to allocate 625. GiB for an array with shape (83845221157,) and data type int64"
     ]
    }
   ],
   "source": [
    "chunks =[]\n",
    "for chunk in df_posts_7.read_csv( usecols=[\"numbr_likes\", \"profile_id\"], iterator = True chunksize = 500000, nrows = 3000000):\n",
    "    chunks.append(chunk)\n",
    "\n",
    "l = []\n",
    "for i in range(len(chunks)):\n",
    "    chucks_profiles= pd.merge(chunk[i], df_profiles, on=\"profile_id\")\n",
    "    prob = sum(chucks_profiles['numbr_likes'] >= chucks_profiles[\"followers\"]*0.2/len(chucks_profiles)\n",
    "    l.append(prob)\n",
    "\n",
    "\n",
    "sum(l)/len(l) "
   ]
  },
  {
   "cell_type": "markdown",
   "id": "5a9a48a7",
   "metadata": {},
   "source": [
    "## 7.2 Do users usually return to locations? Extract the probability that a user returns to a site after having posted it in the past. Does that probability make sense to you? Explain why or why not.\n"
   ]
  },
  {
   "cell_type": "code",
   "execution_count": null,
   "id": "5e7de304",
   "metadata": {},
   "outputs": [],
   "source": [
    "chunks =[]\n",
    "for chunk in pd.read_csv(df_profiles = (r\"C:\\Users\\elisa\\Desktop\\HW_2\\instagram_profiles.csv\", usecols=[\"location_id\", \"profile_id\"], iterator = True, chunksize = 500000, nrows = 3000000), sep= '\\t').to_pandas()\n",
    "    chunks.append(chunk)\n",
    "\n",
    "\n",
    "l = []\n",
    "for i in range(0,len(chunks)):\n",
    "    a = sum(chunks[i].pivot_table[index = 'profile_id', 'location_id'], aggfunc = 'size')>1)\n",
    "    prob = a/len(chunks[i].pivot_table[index = 'profile_id', 'location_id'], aggfunc = 'size'))\n",
    "    p.append(prob)\n",
    "\n",
    "\n",
    "sum(p)/len(p)"
   ]
  },
  {
   "cell_type": "markdown",
   "id": "89a4b632",
   "metadata": {},
   "source": [
    "# [RQ8] Every decision you take in a data-based environment should be reinforced with charts, statistical tests and analysis methods to check whether a hypothesis is correct or not.\n",
    "\n"
   ]
  },
  {
   "cell_type": "code",
   "execution_count": 35,
   "id": "1c277a44",
   "metadata": {},
   "outputs": [],
   "source": [
    "df_posts = dt.fread(r\"C:\\Users\\elisa\\Desktop\\HW_2\\instagram_posts.csv\", sep= '\\t', columns = {'profile_id', 'location_id', 'post_type', 'numbr_likes', 'number_comments'}).to_pandas()"
   ]
  },
  {
   "cell_type": "markdown",
   "id": "050feabf",
   "metadata": {},
   "source": [
    "## 8.1 Does more “likes” also mean more comments? Plot a scatter plot of “likes” vs comments for posts."
   ]
  },
  {
   "cell_type": "code",
   "execution_count": 36,
   "id": "cf54172a",
   "metadata": {},
   "outputs": [
    {
     "data": {
      "text/plain": [
       "<AxesSubplot:xlabel='numbr_likes', ylabel='number_comments'>"
      ]
     },
     "execution_count": 36,
     "metadata": {},
     "output_type": "execute_result"
    },
    {
     "data": {
      "image/png": "[encoded data removed]",
      "text/plain": [
       "<Figure size 432x288 with 1 Axes>"
      ]
     },
     "metadata": {
      "needs_background": "light"
     },
     "output_type": "display_data"
    }
   ],
   "source": [
    "df_posts[\"numbr_likes\"].corr(df_posts[\"number_comments\"], method = \"pearson\")\n",
    "df_posts.plot.scatter(x='numbr_likes',y='number_comments',c='DarkGreen', fontsize = 15)"
   ]
  },
  {
   "cell_type": "markdown",
   "id": "ac782b13",
   "metadata": {},
   "source": [
    "## 8.2 Can you find any significant relationship between the time a user publishes a post and the number of comments and “likes”? Use an appropriate statistical test or technique and support your choice.\n"
   ]
  },
  {
   "cell_type": "code",
   "execution_count": null,
   "id": "e32ea936",
   "metadata": {},
   "outputs": [],
   "source": []
  },
  {
   "cell_type": "markdown",
   "id": "271ce6f5",
   "metadata": {},
   "source": [
    "## 8.3 What’s the distribution of followers? Plot the empirical distribution of followers amongst all users and extract the mean, mode, and quantiles. Interpret those figures.\n"
   ]
  },
  {
   "cell_type": "code",
   "execution_count": 8,
   "id": "7a0654e3",
   "metadata": {},
   "outputs": [],
   "source": [
    "df_profiles = dt.fread(r\"C:\\Users\\elisa\\Desktop\\HW_2\\instagram_profiles.csv\", sep= '\\t').to_pandas()"
   ]
  },
  {
   "cell_type": "code",
   "execution_count": 37,
   "id": "85cfcdf8",
   "metadata": {},
   "outputs": [
    {
     "data": {
      "text/plain": [
       "4739.899180397426"
      ]
     },
     "execution_count": 37,
     "metadata": {},
     "output_type": "execute_result"
    }
   ],
   "source": [
    "mean_followers = np.mean(df_profiles.followers.dropna())\n",
    "mean_followers"
   ]
  },
  {
   "cell_type": "code",
   "execution_count": 38,
   "id": "086918c5",
   "metadata": {},
   "outputs": [
    {
     "data": {
      "text/plain": [
       "0    0.0\n",
       "Name: followers, dtype: float64"
      ]
     },
     "execution_count": 38,
     "metadata": {},
     "output_type": "execute_result"
    }
   ],
   "source": [
    "mode_followers = df_profiles.followers.mode(dropna=True)\n",
    "mode_followers"
   ]
  },
  {
   "cell_type": "code",
   "execution_count": 45,
   "id": "dd69fb05",
   "metadata": {},
   "outputs": [
    {
     "data": {
      "text/plain": [
       "0           146.0\n",
       "1          1145.0\n",
       "2           324.0\n",
       "5           192.0\n",
       "6          4137.0\n",
       "            ...  \n",
       "4509578     809.0\n",
       "4509579     599.0\n",
       "4509580     261.0\n",
       "4509581     481.0\n",
       "4509584     153.0\n",
       "Name: followers, Length: 3452771, dtype: float64"
      ]
     },
     "execution_count": 45,
     "metadata": {},
     "output_type": "execute_result"
    }
   ],
   "source": [
    "followers_na= df_profiles.followers.dropna()\n",
    "followers_na"
   ]
  },
  {
   "cell_type": "code",
   "execution_count": 46,
   "id": "261c04ac",
   "metadata": {},
   "outputs": [
    {
     "data": {
      "text/plain": [
       "0.25    159.0\n",
       "0.50    406.0\n",
       "0.75    974.0\n",
       "Name: followers, dtype: float64"
      ]
     },
     "execution_count": 46,
     "metadata": {},
     "output_type": "execute_result"
    }
   ],
   "source": [
    "followers_na.quantile([.25, .5, .75])"
   ]
  },
  {
   "cell_type": "code",
   "execution_count": 59,
   "id": "795cb26b",
   "metadata": {},
   "outputs": [
    {
     "data": {
      "text/plain": [
       "(array([2.21150e+04, 0.00000e+00, 0.00000e+00, 9.07100e+03, 0.00000e+00,\n",
       "        6.34200e+03, 0.00000e+00, 5.41500e+03, 4.99900e+03, 9.30100e+03,\n",
       "        4.55500e+03, 9.47400e+03, 1.01160e+04, 1.54910e+04, 1.55150e+04,\n",
       "        1.98970e+04, 2.47100e+04, 2.97230e+04, 3.61540e+04, 5.26880e+04,\n",
       "        6.02090e+04, 7.12560e+04, 8.49050e+04, 9.84260e+04, 1.22082e+05,\n",
       "        1.37964e+05, 1.52298e+05, 1.72562e+05, 1.83929e+05, 1.95489e+05,\n",
       "        2.01458e+05, 2.04431e+05, 2.01852e+05, 1.88732e+05, 1.76621e+05,\n",
       "        1.76326e+05, 1.40365e+05, 1.06283e+05, 8.05100e+04, 6.55360e+04,\n",
       "        4.98690e+04, 3.98330e+04, 3.26330e+04, 2.91360e+04, 2.54860e+04,\n",
       "        2.24270e+04, 2.03560e+04, 2.23750e+04, 1.85850e+04, 1.50390e+04,\n",
       "        1.25990e+04, 1.07380e+04, 8.75400e+03, 7.23200e+03, 5.98700e+03,\n",
       "        5.39600e+03, 4.47800e+03, 3.72300e+03, 3.07300e+03, 2.98800e+03,\n",
       "        2.46800e+03, 1.98000e+03, 1.61500e+03, 1.39200e+03, 1.24500e+03,\n",
       "        1.08500e+03, 8.96000e+02, 7.31000e+02, 6.85000e+02, 5.91000e+02,\n",
       "        4.46000e+02, 4.79000e+02, 3.63000e+02, 2.69000e+02, 2.45000e+02,\n",
       "        1.83000e+02, 1.44000e+02, 1.01000e+02, 7.20000e+01, 7.60000e+01,\n",
       "        4.70000e+01, 4.40000e+01, 2.80000e+01, 2.20000e+01, 1.20000e+01,\n",
       "        2.20000e+01, 7.00000e+00, 8.00000e+00, 5.00000e+00, 1.00000e+00,\n",
       "        0.00000e+00, 0.00000e+00, 1.00000e+00, 0.00000e+00, 0.00000e+00,\n",
       "        0.00000e+00, 0.00000e+00, 0.00000e+00, 0.00000e+00, 1.00000e+00]),\n",
       " array([ 0.        ,  0.19469604,  0.38939208,  0.58408813,  0.77878417,\n",
       "         0.97348021,  1.16817625,  1.3628723 ,  1.55756834,  1.75226438,\n",
       "         1.94696042,  2.14165646,  2.33635251,  2.53104855,  2.72574459,\n",
       "         2.92044063,  3.11513668,  3.30983272,  3.50452876,  3.6992248 ,\n",
       "         3.89392085,  4.08861689,  4.28331293,  4.47800897,  4.67270501,\n",
       "         4.86740106,  5.0620971 ,  5.25679314,  5.45148918,  5.64618523,\n",
       "         5.84088127,  6.03557731,  6.23027335,  6.42496939,  6.61966544,\n",
       "         6.81436148,  7.00905752,  7.20375356,  7.39844961,  7.59314565,\n",
       "         7.78784169,  7.98253773,  8.17723377,  8.37192982,  8.56662586,\n",
       "         8.7613219 ,  8.95601794,  9.15071399,  9.34541003,  9.54010607,\n",
       "         9.73480211,  9.92949816, 10.1241942 , 10.31889024, 10.51358628,\n",
       "        10.70828232, 10.90297837, 11.09767441, 11.29237045, 11.48706649,\n",
       "        11.68176254, 11.87645858, 12.07115462, 12.26585066, 12.4605467 ,\n",
       "        12.65524275, 12.84993879, 13.04463483, 13.23933087, 13.43402692,\n",
       "        13.62872296, 13.823419  , 14.01811504, 14.21281108, 14.40750713,\n",
       "        14.60220317, 14.79689921, 14.99159525, 15.1862913 , 15.38098734,\n",
       "        15.57568338, 15.77037942, 15.96507547, 16.15977151, 16.35446755,\n",
       "        16.54916359, 16.74385963, 16.93855568, 17.13325172, 17.32794776,\n",
       "        17.5226438 , 17.71733985, 17.91203589, 18.10673193, 18.30142797,\n",
       "        18.49612401, 18.69082006, 18.8855161 , 19.08021214, 19.27490818,\n",
       "        19.46960423]),\n",
       " <BarContainer object of 100 artists>)"
      ]
     },
     "execution_count": 59,
     "metadata": {},
     "output_type": "execute_result"
    },
    {
     "data": {
      "image/png": "[encoded data removed]",
      "text/plain": [
       "<Figure size 432x288 with 1 Axes>"
      ]
     },
     "metadata": {
      "needs_background": "light"
     },
     "output_type": "display_data"
    }
   ],
   "source": [
    "plotting = df_profiles.followers.apply(lambda x: np.log(x+1))\n",
    "plt.title(\"plotting distribution of followers\")\n",
    "plt.hist(plotting,  bins=100, color=\"red\")\n"
   ]
  },
  {
   "cell_type": "markdown",
   "id": "aa6fab42",
   "metadata": {},
   "source": [
    "## 8.4 What are histograms, bar plots, scatterplots and pie charts used for?"
   ]
  },
  {
   "cell_type": "markdown",
   "id": "645c03b9",
   "metadata": {},
   "source": [
    "The histogram is a two-dimensional data visualization maded up of rectangular bars breaks down a numeric data into interval groups and shows the frequency of data fall into each group. With this type of graph we plot continuous data.\n",
    "\n",
    "Bar plots is a graph with rectangular bars.Where the horizontal axis representes categories, while on the vertical axis the values of that categories.It is used for looking at a set of data and making comparisons. On this type of graph we can plot discrete data.\n",
    "\n",
    "A Pie chart is a circular graph that shows numerical proportions inside a dataset. It's divided into sectors that represent the proportion of an element in the dataset.\n",
    "\n",
    "Scatterplots helps find the relationship between two variables, it is based on  the correlation. We can have a posive, negative an null correlation. The data points lying outside the given set of data can be identified to find the outliers, beacuse if the data points fit the line that eans there is a corrlations between the two variables."
   ]
  },
  {
   "cell_type": "markdown",
   "id": "7cdb8b71",
   "metadata": {},
   "source": [
    "## 8.5 What insights can you extract from a Box Plot?\n"
   ]
  },
  {
   "cell_type": "markdown",
   "id": "2c5cec66",
   "metadata": {},
   "source": [
    "We use boxplot to show the distribution of data within a population. From a boxplot we can extract different measures: the minimum (the smallest number in the data set), first quartile,the median,\n",
    "third quartile, the maximum.\n",
    "We can arranged the visualization horizontal or vertical.\n",
    "this vizualization can also help us to find outliers."
   ]
  },
  {
   "cell_type": "markdown",
   "id": "b7745c1c",
   "metadata": {},
   "source": [
    "# Command Line Question"
   ]
  },
  {
   "cell_type": "markdown",
   "id": "c790da83",
   "metadata": {},
   "source": [
    "# Algorithmic Question"
   ]
  },
  {
   "cell_type": "markdown",
   "id": "435957fa",
   "metadata": {},
   "source": [
    "## AQ1\n",
    "\n",
    "#### What is the output of this algorithm? Describe the mechanism of the algorithm in detail . We do not want to know only its final result. (Describe one example on your own)\n",
    "#### What is asymptotically (i.e., we are asking for big-O complexity) the algorithm's running time as a function of N?\n",
    "#### Is this algorithm the optimal one to produce this output? If not, can you suggest a better algorithm to perform the same task?"
   ]
  },
  {
   "cell_type": "markdown",
   "id": "ae4cd526",
   "metadata": {},
   "source": [
    "## OUTPUT\n",
    "\n",
    "##latex\n",
    "The algorithm will ultimately print every possible permutation of the input List.\n",
    "Each different permutation of the list is going to be printed with a f1() call, and\n",
    "each element of any single permutation is going to be printed on a new line.\n",
    "Output Example for Input: N=3, List = [0,1,2]\n",
    "\n",
    "0\n",
    "1\n",
    "2\n",
    "\n",
    "0\n",
    "2\n",
    "1\n",
    "\n",
    "1\n",
    "0\n",
    "2\n",
    "\n",
    "1\n",
    "2\n",
    "0\n",
    "\n",
    "2\n",
    "1\n",
    "0\n",
    "\n",
    "2\n",
    "0\n",
    "1\n",
    "\n",
    "\n",
    "\n",
    "\n",
    "## MECHANISM\n",
    "\n",
    "f1():\n",
    "The f1() function has only 1 cycle that prints each element of the list on a new\n",
    "line, so this function complexity is O(N)\n",
    "\n",
    "f2():\n",
    "Each cycle iteration within f2() calls another f2() with a smaller distance\n",
    "between “start” and “end”. This distance is the number of cycle iterations for\n",
    "that specific call.\n",
    "\n",
    "Each call of f2() runs a loop from current index start to end and do:\n",
    "1. Swap list[i] and list[start].\n",
    "2. Find all other possible permutations, from f2(list,start + 1,end).\n",
    "3. Swap list[start] and list[i].\n",
    "\n",
    "So for the first call of f2, the cycle will iterate N times, calling f2() N times\n",
    "For the second call of f2, the cycle will iterate N-1 times, calling f2 another N-1\n",
    "times, and so on.\n",
    "With this mechanism, the f2() function is going to be called a number of times\n",
    "equal to $\\sum_{i=0}^{n}\\(\\frac{n!}{(n-i)!}\\)\\$\n",
    "    \n",
    "At the end of every f2() mechanism, an f1() call wil be computed.\n",
    "This way of finding all possible solution is called backracking.\n",
    "\n",
    "\n",
    "\n",
    "\n",
    "\n",
    "\n",
    "## COMPUTATIONAL COST\n",
    "\n",
    "Therefore we can say thar the f1() function will be called N! times for a total\n",
    "complexity of $O(N \\times N!)$, as we established the complexity of f1() to be $O(N)$.\n",
    "We are still leaving out the computational cost of f2() calls, but as we know\n",
    "that:\n",
    "$\\sum_{i=0}^{n}\\(\\frac{n!}{(n-i)!}\\)<n \\times n!\\$ \n",
    "\n",
    "They won't be taken in account for asymptotic complexity evaluation.\n",
    "Finally, we can say that the algorithm has an asymptotic computational cost of\n",
    "$O(N \\times N!)$ which is an extrmely high cost, as the $O(N!)$ time class is the most\n",
    "expensive.\n",
    "\n",
    "\n",
    "\n",
    "\n",
    "## BETTER ALGORITHM\n",
    "\n",
    "An algorithm with a lower asymptotic computational cost for this task is not\n",
    "possible.\n",
    "The reason is that there are n! permutations of any given number n, and $O(N)$\n",
    "time is required to print a permutation this way. Also it is impossible to generate\n",
    "all the permutations faster than $O(N!)$, as they are in fact N!.\n",
    "Thus, printing each element of all permutations from a given list of length N\n",
    "takes $O(N \\times N!)$ time."
   ]
  },
  {
   "cell_type": "markdown",
   "id": "6dfb6328",
   "metadata": {},
   "source": [
    "## AQ2\n",
    "#### Implement a recursive algorithm to help Alex find the maximum possible value after multiplying the length of the pieces. Explain your algorithm in detail.\n",
    "\n",
    "#### Show that the algorithm has exponential running time.\n",
    "#### Now provide a polynomial solution, based on dynamic programming, and compute its running-time complexity.\n",
    "#### Evaluate the running time of your algorithm for the sizes (Ns) in the range of [2, 25], plot the results, and interpret it (if you have implemented two algorithms, please include both in the plot and compare them).\n",
    "#### (Optional, mini bonus) Is the algorithm of question 3 optimal? If you belive it, can you prove it? If not, can you find a faster algorithm? In case you found a faster algorithm implement it and explain your algorithm in detail."
   ]
  },
  {
   "cell_type": "markdown",
   "id": "65c7eaf2",
   "metadata": {},
   "source": [
    "## RECURSIVE SOLUTION\n",
    "\n",
    "If we have to split an integer n in two parts, the two parts should be equal in\n",
    "order to get the maximum multiplication possible. If $n$ is and odd number, then\n",
    "n is going to be split between $n/2$ and $((n/2)+ 1)$.\n",
    "The following algorithm is going to produce the highest multiplication by\n",
    "recursively splitting the ribbon in half for each call, and stopping the process\n",
    "when the ribbon piece has length 3 or lower. That’s because you could split any\n",
    "nmber grater than 3 to gain a greater product.\n",
    "For example: $7 \\times 3 < 2 \\times 2 \\times 3 \\times 3$\n",
    "When the algorithm has done cutting that piece, insert the length of that piece in\n",
    "a list.\n",
    "In order to get the maximum product, we should replace any triplet of 2 in the\n",
    "list with a couple of 3, as $2+2+2 = 3+3$ but $2 \\times 2 \\times 2 < 3 \\times 3$. In general, the correct\n",
    "solution comes with a list of ribbon pieces of length 3, plus eventually one\n",
    "additional ribbon of length 2 or 4, depending on which integer N we are going\n",
    "to use as an input.\n",
    "Finally we are going to multiplicate the length of every produced piece, which\n",
    "are the elements of the produced list, to get the highest multiplication value.\n",
    "\n",
    "![alt text](AQ2_imgs/img1.png)\n",
    "\n",
    "\n",
    "\n",
    "For the input n=15 the ribbon is going to be split as follows:\n",
    "15 -> (8,7) -> (4,4,3,4) -> (2,2,2,2,3,2,2)\n",
    "(2,2,2,2,3,2,2) -> (3,3,3,3,3)\n",
    "Output: $3 \\times 3 \\times 3 \\times 3 \\times 3 = 243$                      "
   ]
  },
  {
   "cell_type": "markdown",
   "id": "648a5628",
   "metadata": {},
   "source": [
    "## COMPLEXITY ANALYSIS\n",
    "We are now going to analyze the complexity of this solution on the\n",
    "computational cost of cut_ribbons(), because it’s the most expensive function\n",
    "used in the algorithm.\n",
    "This function calls itself 2 times for each call until the ribbon piece is down to\n",
    "length 3 or less. This means that we are halving the input for every call. So for\n",
    "n = 10 the algorithm will call cut_ribbons() as follows:\n",
    "\n",
    "![alt text](AQ2_imgs/img2.png)\n",
    "\n",
    "\n",
    "So for n=15 the function will be executed 13 times.\n",
    "For n=50 the function will be executed 42 times\n",
    "For n=4000 the function will be executed 3910 times\n",
    "As we can see, the number of calls is always really close to N. We can have a\n",
    "practical demonstration of this by implementing a counter that increments for\n",
    "each call of cut_ribbons().\n",
    "\n",
    "Therefore we can say that this algorithm is going to execute an O(1) cost\n",
    "function nearly about N times. That’s because for each step we double the\n",
    "number of function calls but we also halve the input size: cut_ribbons(N)\n",
    "produces two cut_ribbon(N/2), which then produce four cut_ribbon(N/4) and so\n",
    "on. We can then say that the asymptotical complexity of the algorithm is O(N).\n",
    "We are leaving out Replace_triplets() and Multiply_all_elements() from this\n",
    "analysis because their computational cost linearly depends on the length of the\n",
    "produced list, which is always going to be shorter than the input N (something\n",
    "between N/2 and N/3), so they are going to be cheaper (O(length(out_list)))."
   ]
  },
  {
   "cell_type": "markdown",
   "id": "76725edb",
   "metadata": {},
   "source": [
    "## ITERATIVE SOLUTIONS\n",
    "The iterative resolution to this task is much simpler. We just need to cut the\n",
    "ribbons by pieces of length 3 one at a time, as we update the product for every\n",
    "cut, until N is lower than 5 which is going to be our last piece.\n",
    "We will have to explicitly handle ribbons of initial length lower than 4.\n",
    "\n",
    "Code for Algorithm $2$ :\n",
    "\n",
    "![alt text](AQ2_imgs/img3.png)\n",
    "\n",
    "This solution uses one loop which is going to iterate N/3 times, so the\n",
    "asymptotic complexity of the algorithm is going to be O(N/3), which belongs to\n",
    "O(N) class time complexity.\n",
    "This algorithm is slightly better than the recursive one because it is going to\n",
    "compute roughly N/3 operations, while with the recursive solution we are going\n",
    "to compute a number of operations that can eventually sum up to “almost N”.\n",
    "Although they belong to the same time complexity class O(N)\n",
    "An even simpler solution would be a single iteration of a function which returns\n",
    "the following number:\n",
    "\n",
    "![alt text](AQ2_imgs/img4.png)\n",
    "\n",
    "Where n/3 is an integer division and r(n/3) is the rest of that division.\n",
    "\n",
    "\n",
    "If we really had to use a $sub  optimal$ solution just for the sake of dynamic\n",
    "programming, we could use this iterative algoritm instead (Algorithm $3$):\n",
    "\n",
    "![alt text](AQ2_imgs/img5.png)\n",
    "\n",
    " \n",
    "This algorithm creates a solution by building the list choosing the\n",
    "highest value between the element at current index i and the highest value\n",
    "between i-j and j times the element at index i-j. This process is ultimately going\n",
    "to produce the highest product at his last iteration.\n",
    "\n",
    "Because there are 2 nested loops whose number of iterations linearly depends\n",
    "on n, we can say that the asymptotical time complexity is O($N^2$)."
   ]
  },
  {
   "cell_type": "markdown",
   "id": "26d1cef2",
   "metadata": {},
   "source": [
    "## RUNNING TIME ANALYSIS\n",
    "We are going to plot running times for all 3 algorithms.\n",
    "Remember that:\n",
    "1. Recursive $O(N)$\n",
    "2. Iterative $O(N/3)$ ~ $O(N)$\n",
    "3. Dynamic Programming $O(N^2)$\n",
    "\n",
    "For inputs within range [2,25], we produce the following running times:\n",
    "\n",
    "\n",
    "Recursive: [0.0, 0.0, 0.0, 0.0, 0.0, 0.0, 0.0, 0.0, 0.0, 0.0, 0.0, 0.0, 0.0, 0.0, 0.0,\n",
    "0.0, 0.0, 0.0, 0.0, 0.0, 0.0, 0.0, 0.0]\n",
    "\n",
    "Iterative: [0.0, 0.0, 0.0, 0.0, 0.0, 0.0, 0.0, 0.0, 0.0, 0.0, 0.0, 0.0, 0.0, 0.0, 0.0, 0.0,\n",
    "0.0, 0.0, 0.0, 0.0, 0.0, 0.0, 0.0]\n",
    "\n",
    "Dynamic Programming: [0.0, 0.0, 0.0, 0.0, 0.0, 0.0, 0.0, 0.0, 0.0, 0.0, 0.0, 0.0,\n",
    "0.0, 0.0, 0.0, 0.0005011558532714844, 0.0, 0.0, 0.0, 0.0, 0.0,\n",
    "0.0005002021789550781, 0.0]\n",
    "\n",
    "\n",
    "\n",
    "As we can see, algorithms run too fast on our machine to register decent\n",
    "running times for such small input.\n",
    "\n",
    "For this reason we are going to plot inputs within range [2000, 25000], with an\n",
    "interval of 1000. We are now producing following running times for this range:\n",
    "\n",
    "Recursive: [1.001119613647461, 1.5015602111816406, 13.010978698730469,\n",
    "21.518468856811523, 20.517587661743164, 69.56005096435547,\n",
    "158.13636779785156, 226.19390487670898, 280.2412509918213,\n",
    "299.757719039917, 163.64073753356934, 280.2400588989258,\n",
    "607.52272605896, 1074.922800064087, 1664.930820465088,\n",
    "2077.2852897644043, 2426.084041595459, 2701.3213634490967,\n",
    "2722.839117050171, 2847.4466800689697, 2320.9939002990723,\n",
    "1577.354907989502, 751.1463165283203]\n",
    "\n",
    "Iterative: [0.0005002021789550781, 0.0, 0.0005004405975341797, 0.0,\n",
    "0.0005004405975341797, 0.0004999637603759766, 0.0005006790161132812,\n",
    "0.0005004405975341797, 0.0010006427764892578, 0.0010008811950683594,\n",
    "0.0004999637603759766, 0.0010013580322265625, 0.0010006427764892578,\n",
    "0.0015015602111816406, 0.001500844955444336, 0.001500844955444336,\n",
    "0.0020012855529785156, 0.0015010833740234375, 0.002001523971557617,\n",
    "0.0020024776458740234, 0.0025022029876708984, 0.0025014877319335938,\n",
    "0.002501249313354492]\n",
    "\n",
    "Dynamic Programming: [0.6470556259155273, 1.5007901191711426,\n",
    "2.9130022525787354, 4.485854387283325, 6.65071439743042,\n",
    "8.911656379699707, 11.896220684051514, 15.508825302124023,\n",
    "20.722304105758667, 24.990471363067627, 30.729902982711792,\n",
    "37.36410140991211, 44.97063851356506, 53.652597188949585,\n",
    "60.95937538146973, 70.41449975967407, 81.33337998390198,\n",
    "92.48896503448486, 105.39655470848083, 117.96134948730469,\n",
    "131.81175112724304, 146.9797821044922, 162.58318853378296]\n",
    "\n",
    "\n",
    "From this dataset we get the following plots. Running time is expressed in\n",
    "seconds.\n",
    "\n",
    "\n",
    "![alt text](AQ2_imgs/img6.png)\n",
    "\n",
    "![alt text](AQ2_imgs/img7.png)\n",
    "\n",
    "![alt text](AQ2_imgs/img8.png)\n",
    "\n",
    "\n",
    "\n",
    "    \n",
    "\n",
    "Lowest running times are registered on iterative algorithm, while the slowest algorithm is\n",
    "the one that uses Dynamic Programming.\n",
    "We can see that Recursive and Iterative growths are pretty much linear, while\n",
    "Dynamic Programming is quadratic. This respects each algorithm’s time class\n",
    "complexity ( $O(N)$ ,$O(N)$ , $O(N ^ 2)$ ).\n",
    "\n",
    "We can say that the worthiest algorithm is the Iterative one (Algorithm $2$)."
   ]
  }
 ],
 "metadata": {
  "kernelspec": {
   "display_name": "Python 3 (ipykernel)",
   "language": "python",
   "name": "python3"
  },
  "language_info": {
   "codemirror_mode": {
    "name": "ipython",
    "version": 3
   },
   "file_extension": ".py",
   "mimetype": "text/x-python",
   "name": "python",
   "nbconvert_exporter": "python",
   "pygments_lexer": "ipython3",
   "version": "3.9.12"
  }
 },
 "nbformat": 4,
 "nbformat_minor": 5
}
