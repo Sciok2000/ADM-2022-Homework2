{
 "cells": [
  {
   "cell_type": "code",
   "execution_count": 3,
   "id": "03ae3904-5670-410a-80b7-adb2dd8c0649",
   "metadata": {},
   "outputs": [
    {
     "data": {
      "text/html": [
       "<style type='text/css'>\n",
       ".datatable table.frame { margin-bottom: 0; }\n",
       ".datatable table.frame thead { border-bottom: none; }\n",
       ".datatable table.frame tr.coltypes td {  color: #FFFFFF;  line-height: 6px;  padding: 0 0.5em;}\n",
       ".datatable .bool    { background: #DDDD99; }\n",
       ".datatable .object  { background: #565656; }\n",
       ".datatable .int     { background: #5D9E5D; }\n",
       ".datatable .float   { background: #4040CC; }\n",
       ".datatable .str     { background: #CC4040; }\n",
       ".datatable .time    { background: #40CC40; }\n",
       ".datatable .row_index {  background: var(--jp-border-color3);  border-right: 1px solid var(--jp-border-color0);  color: var(--jp-ui-font-color3);  font-size: 9px;}\n",
       ".datatable .frame tbody td { text-align: left; }\n",
       ".datatable .frame tr.coltypes .row_index {  background: var(--jp-border-color0);}\n",
       ".datatable th:nth-child(2) { padding-left: 12px; }\n",
       ".datatable .hellipsis {  color: var(--jp-cell-editor-border-color);}\n",
       ".datatable .vellipsis {  background: var(--jp-layout-color0);  color: var(--jp-cell-editor-border-color);}\n",
       ".datatable .na {  color: var(--jp-cell-editor-border-color);  font-size: 80%;}\n",
       ".datatable .sp {  opacity: 0.25;}\n",
       ".datatable .footer { font-size: 9px; }\n",
       ".datatable .frame_dimensions {  background: var(--jp-border-color3);  border-top: 1px solid var(--jp-border-color0);  color: var(--jp-ui-font-color3);  display: inline-block;  opacity: 0.6;  padding: 1px 10px 1px 5px;}\n",
       "</style>\n"
      ],
      "text/plain": [
       "<IPython.core.display.HTML object>"
      ]
     },
     "metadata": {},
     "output_type": "display_data"
    }
   ],
   "source": [
    "import csv\n",
    "# import pandas module \n",
    "import pandas as pd \n",
    "import datatable as dt\n",
    "import matplotlib.pyplot as plt\n",
    "import plotly.express as px\n",
    "import numpy as np"
   ]
  },
  {
   "cell_type": "code",
   "execution_count": 10,
   "id": "bc6f23ae-f8ce-4dd0-b1c8-770bc679966b",
   "metadata": {},
   "outputs": [
    {
     "name": "stdout",
     "output_type": "stream",
     "text": [
      "0\n",
      "1\n",
      "2\n",
      "ok\n"
     ]
    }
   ],
   "source": [
    "print(0)\n",
    "df_profiles = dt.fread(r\"instagram_profiles.csv\", sep= '\\t').to_pandas()\n",
    "print(1)\n",
    "df_locations = dt.fread(r\"instagram_locations.csv\", sep= '\\t' ).to_pandas()\n",
    "print(2)\n",
    "df_posts_3 = dt.fread(r\"instagram_posts.csv\", sep= '\\t', columns = {'sid_profile', 'profile_id', 'cts'}).to_pandas()\n",
    "\n",
    "\n"
   ]
  },
  {
   "cell_type": "code",
   "execution_count": 11,
   "id": "46737684-d34d-4fb0-bda5-4ed86448b24a",
   "metadata": {},
   "outputs": [
    {
     "name": "stdout",
     "output_type": "stream",
     "text": [
      "0\n"
     ]
    }
   ],
   "source": [
    "#3.1\n",
    "\n",
    "\n",
    "d = {} #dictionary containing occurencies for each cts on posts\n",
    "\n",
    "\n",
    "for i in range(len(df_posts_3)): #create dictionary with time occurrencies\n",
    "    \n",
    "    hour = str(df_posts_3['cts'][i])[11:]\n",
    "    \n",
    "    if hour in d:\n",
    "        d[hour]+=1\n",
    "    else:\n",
    "        d[hour]=1\n",
    "    \n"
   ]
  },
  {
   "cell_type": "code",
   "execution_count": 12,
   "id": "d364b2d1-ff58-44b1-a790-d65c91285b86",
   "metadata": {},
   "outputs": [
    {
     "name": "stdout",
     "output_type": "stream",
     "text": [
      "The most common time in which users publish their posts is , with 3332 occurencies\n"
     ]
    }
   ],
   "source": [
    "#3.1\n",
    "\n",
    "\n",
    "print('The most common time in which users publish their posts is ' + str(max(d, key=d.get)) + ', with ' + str(d[max(d, key=d.get)]) + ' occurencies')\n",
    "\n"
   ]
  },
  {
   "cell_type": "code",
   "execution_count": 13,
   "id": "33c411c0-2435-47c1-9938-59232f50ec3b",
   "metadata": {},
   "outputs": [],
   "source": [
    "#3.2\n",
    "\n",
    "#SUPPOSING THAT EVERY TIME INTERVAL IN THE LIST IS WRITTEN IN THE FORMAT 'hh:mm:ss-hh:mm:ss'\n",
    "#this function uses the dictionary previously created\n",
    "\n",
    "def plot_posts_time_intervals(time_intervals=[], d_datas={}):\n",
    "    \n",
    "    if ('' in d):\n",
    "        d.pop('',None)\n",
    "    \n",
    "    posts_count = [] #counter for posts in each time interval\n",
    "    \n",
    "    for interval in time_intervals:\n",
    "        \n",
    "        i_count=0\n",
    "        \n",
    "        h1=int(interval[:2]) #split interval margins into integers\n",
    "        m1=int(interval[3:5])\n",
    "        s1=int(interval[6:8])\n",
    "        h2=int(interval[9:11])\n",
    "        m2=int(interval[12:14])\n",
    "        s2=int(interval[15:])\n",
    "        \n",
    "\n",
    "        \n",
    "        for key in d_datas:\n",
    "            \n",
    "            \n",
    "            k_h=int(key[:2]) #split time into integers\n",
    "            k_m=int(key[3:5])\n",
    "            k_s=int(key[6:8])\n",
    "            \n",
    "            if (h1 <=k_h and m1<=k_m and s1<=k_s and h2>=k_h and m2>=k_m and s2>=k_s): #if time is in the given interval\n",
    "                \n",
    "                i_count+=d[key] #increment posts on that interval for this specific time\n",
    "            \n",
    "        \n",
    "        \n",
    "        posts_count.append(i_count)\n",
    "        \n",
    "    print(posts_count)\n",
    "    plt.title('Number of Posts')\n",
    "    plt.xlabel('Time')\n",
    "    plt.ylabel('Posts')\n",
    "    plt.plot(time_intervals, posts_count)\n",
    "\n",
    "    plt.show()\n",
    "                "
   ]
  },
  {
   "cell_type": "code",
   "execution_count": 14,
   "id": "ebec8272-1913-4531-ac39-ce81ebd70847",
   "metadata": {},
   "outputs": [
    {
     "name": "stdout",
     "output_type": "stream",
     "text": [
      "[6378572, 5614715, 6763037, 7409907, 8915794, 4213617, 3411223]\n"
     ]
    },
    {
     "data": {
      "image/png": "[encoded data removed]",
      "text/plain": [
       "<Figure size 640x480 with 1 Axes>"
      ]
     },
     "metadata": {},
     "output_type": "display_data"
    }
   ],
   "source": [
    "#3.3\n",
    "\n",
    "times = [\"06:00:00-10:59:59\",\"11:00:00-13:59:59\", \"14:00:00-16:59:59\",\"17:00:00-19:59:59\",\"20:00:00-23:59:59\",\"00:00:00-02:59:59\",\"03:00:00-05:59:59\"]\n",
    "\n",
    "plot_posts_time_intervals(times,d)\n",
    "\n",
    "plt.show()\n"
   ]
  }
 ],
 "metadata": {
  "kernelspec": {
   "display_name": "Python 3 (ipykernel)",
   "language": "python",
   "name": "python3"
  },
  "language_info": {
   "codemirror_mode": {
    "name": "ipython",
    "version": 3
   },
   "file_extension": ".py",
   "mimetype": "text/x-python",
   "name": "python",
   "nbconvert_exporter": "python",
   "pygments_lexer": "ipython3",
   "version": "3.9.5"
  }
 },
 "nbformat": 4,
 "nbformat_minor": 5
}
